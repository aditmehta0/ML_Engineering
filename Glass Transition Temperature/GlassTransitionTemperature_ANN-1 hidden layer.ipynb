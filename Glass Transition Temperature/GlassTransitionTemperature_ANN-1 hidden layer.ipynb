{
 "cells": [
  {
   "cell_type": "markdown",
   "metadata": {
    "colab_type": "text",
    "id": "v2veVuQwEep6"
   },
   "source": [
    "Importing Libraries"
   ]
  },
  {
   "cell_type": "code",
   "execution_count": 3,
   "metadata": {
    "colab": {},
    "colab_type": "code",
    "id": "ecKjr-nJEdUU"
   },
   "outputs": [
    {
     "name": "stderr",
     "output_type": "stream",
     "text": [
      "Using TensorFlow backend.\n"
     ]
    }
   ],
   "source": [
    "import numpy as np\n",
    "import pandas as pd\n",
    "import keras.backend as kb\n",
    "import matplotlib.pyplot as plt\n",
    "from keras.models import Sequential\n",
    "from keras.layers import Dense\n",
    "from keras.layers import Dropout\n",
    "from keras.wrappers.scikit_learn import KerasRegressor\n",
    "from sklearn.model_selection import cross_val_score\n",
    "from sklearn.model_selection import KFold, train_test_split\n",
    "from sklearn.preprocessing import StandardScaler, MinMaxScaler\n",
    "from sklearn.pipeline import Pipeline\n",
    "from sklearn.model_selection import GridSearchCV\n",
    "from sklearn.metrics import r2_score, make_scorer\n",
    "# %matplotlib inline\n"
   ]
  },
  {
   "cell_type": "markdown",
   "metadata": {
    "colab_type": "text",
    "id": "RzC32V6LErU1"
   },
   "source": [
    "Import Data"
   ]
  },
  {
   "cell_type": "code",
   "execution_count": 4,
   "metadata": {
    "colab": {},
    "colab_type": "code",
    "id": "CNmnZxelEnMz"
   },
   "outputs": [],
   "source": [
    "df = pd.read_csv(\"glass_data.csv\")"
   ]
  },
  {
   "cell_type": "code",
   "execution_count": 5,
   "metadata": {
    "colab": {},
    "colab_type": "code",
    "id": "jfFgxZtVEvq6"
   },
   "outputs": [],
   "source": [
    "# define X and y\n",
    "X = df.iloc[:,1:-1]\n",
    "y = df['Tg'] # glass transition temperature"
   ]
  },
  {
   "cell_type": "code",
   "execution_count": 6,
   "metadata": {
    "colab": {
     "base_uri": "https://localhost:8080/",
     "height": 222
    },
    "colab_type": "code",
    "id": "Qh8X-SHwE0Ev",
    "outputId": "a88c37ac-a9e2-421f-e25a-4d333e0d0fc7"
   },
   "outputs": [
    {
     "data": {
      "text/html": [
       "<div>\n",
       "<style scoped>\n",
       "    .dataframe tbody tr th:only-of-type {\n",
       "        vertical-align: middle;\n",
       "    }\n",
       "\n",
       "    .dataframe tbody tr th {\n",
       "        vertical-align: top;\n",
       "    }\n",
       "\n",
       "    .dataframe thead th {\n",
       "        text-align: right;\n",
       "    }\n",
       "</style>\n",
       "<table border=\"1\" class=\"dataframe\">\n",
       "  <thead>\n",
       "    <tr style=\"text-align: right;\">\n",
       "      <th></th>\n",
       "      <th>Li</th>\n",
       "      <th>Be</th>\n",
       "      <th>B</th>\n",
       "      <th>O</th>\n",
       "      <th>Na</th>\n",
       "      <th>Mg</th>\n",
       "      <th>Al</th>\n",
       "      <th>Si</th>\n",
       "      <th>P</th>\n",
       "      <th>K</th>\n",
       "      <th>...</th>\n",
       "      <th>Lu</th>\n",
       "      <th>Hf</th>\n",
       "      <th>Ta</th>\n",
       "      <th>W</th>\n",
       "      <th>Hg</th>\n",
       "      <th>Tl</th>\n",
       "      <th>Pb</th>\n",
       "      <th>Bi</th>\n",
       "      <th>Th</th>\n",
       "      <th>U</th>\n",
       "    </tr>\n",
       "  </thead>\n",
       "  <tbody>\n",
       "    <tr>\n",
       "      <td>0</td>\n",
       "      <td>0.0</td>\n",
       "      <td>0.0</td>\n",
       "      <td>0.099699</td>\n",
       "      <td>0.628564</td>\n",
       "      <td>0.000000</td>\n",
       "      <td>0.008412</td>\n",
       "      <td>0.052889</td>\n",
       "      <td>0.180302</td>\n",
       "      <td>0.000000</td>\n",
       "      <td>0.0</td>\n",
       "      <td>...</td>\n",
       "      <td>0.0</td>\n",
       "      <td>0.0</td>\n",
       "      <td>0.0</td>\n",
       "      <td>0.0</td>\n",
       "      <td>0.0</td>\n",
       "      <td>0.000000</td>\n",
       "      <td>0.000000</td>\n",
       "      <td>0.000000</td>\n",
       "      <td>0.0</td>\n",
       "      <td>0.0</td>\n",
       "    </tr>\n",
       "    <tr>\n",
       "      <td>1</td>\n",
       "      <td>0.0</td>\n",
       "      <td>0.0</td>\n",
       "      <td>0.000000</td>\n",
       "      <td>0.578947</td>\n",
       "      <td>0.000000</td>\n",
       "      <td>0.000000</td>\n",
       "      <td>0.000000</td>\n",
       "      <td>0.000000</td>\n",
       "      <td>0.000000</td>\n",
       "      <td>0.0</td>\n",
       "      <td>...</td>\n",
       "      <td>0.0</td>\n",
       "      <td>0.0</td>\n",
       "      <td>0.0</td>\n",
       "      <td>0.0</td>\n",
       "      <td>0.0</td>\n",
       "      <td>0.000000</td>\n",
       "      <td>0.105263</td>\n",
       "      <td>0.315789</td>\n",
       "      <td>0.0</td>\n",
       "      <td>0.0</td>\n",
       "    </tr>\n",
       "    <tr>\n",
       "      <td>2</td>\n",
       "      <td>0.0</td>\n",
       "      <td>0.0</td>\n",
       "      <td>0.000000</td>\n",
       "      <td>0.523810</td>\n",
       "      <td>0.000000</td>\n",
       "      <td>0.000000</td>\n",
       "      <td>0.000000</td>\n",
       "      <td>0.000000</td>\n",
       "      <td>0.000000</td>\n",
       "      <td>0.0</td>\n",
       "      <td>...</td>\n",
       "      <td>0.0</td>\n",
       "      <td>0.0</td>\n",
       "      <td>0.0</td>\n",
       "      <td>0.0</td>\n",
       "      <td>0.0</td>\n",
       "      <td>0.238094</td>\n",
       "      <td>0.000000</td>\n",
       "      <td>0.000000</td>\n",
       "      <td>0.0</td>\n",
       "      <td>0.0</td>\n",
       "    </tr>\n",
       "    <tr>\n",
       "      <td>3</td>\n",
       "      <td>0.0</td>\n",
       "      <td>0.0</td>\n",
       "      <td>0.000000</td>\n",
       "      <td>0.655172</td>\n",
       "      <td>0.103448</td>\n",
       "      <td>0.000000</td>\n",
       "      <td>0.000000</td>\n",
       "      <td>0.000000</td>\n",
       "      <td>0.241379</td>\n",
       "      <td>0.0</td>\n",
       "      <td>...</td>\n",
       "      <td>0.0</td>\n",
       "      <td>0.0</td>\n",
       "      <td>0.0</td>\n",
       "      <td>0.0</td>\n",
       "      <td>0.0</td>\n",
       "      <td>0.000000</td>\n",
       "      <td>0.000000</td>\n",
       "      <td>0.000000</td>\n",
       "      <td>0.0</td>\n",
       "      <td>0.0</td>\n",
       "    </tr>\n",
       "    <tr>\n",
       "      <td>4</td>\n",
       "      <td>0.0</td>\n",
       "      <td>0.0</td>\n",
       "      <td>0.000000</td>\n",
       "      <td>0.600000</td>\n",
       "      <td>0.000000</td>\n",
       "      <td>0.000000</td>\n",
       "      <td>0.000000</td>\n",
       "      <td>0.000000</td>\n",
       "      <td>0.000000</td>\n",
       "      <td>0.0</td>\n",
       "      <td>...</td>\n",
       "      <td>0.0</td>\n",
       "      <td>0.0</td>\n",
       "      <td>0.0</td>\n",
       "      <td>0.0</td>\n",
       "      <td>0.0</td>\n",
       "      <td>0.000000</td>\n",
       "      <td>0.000000</td>\n",
       "      <td>0.000000</td>\n",
       "      <td>0.0</td>\n",
       "      <td>0.0</td>\n",
       "    </tr>\n",
       "  </tbody>\n",
       "</table>\n",
       "<p>5 rows × 65 columns</p>\n",
       "</div>"
      ],
      "text/plain": [
       "    Li   Be         B         O        Na        Mg        Al        Si  \\\n",
       "0  0.0  0.0  0.099699  0.628564  0.000000  0.008412  0.052889  0.180302   \n",
       "1  0.0  0.0  0.000000  0.578947  0.000000  0.000000  0.000000  0.000000   \n",
       "2  0.0  0.0  0.000000  0.523810  0.000000  0.000000  0.000000  0.000000   \n",
       "3  0.0  0.0  0.000000  0.655172  0.103448  0.000000  0.000000  0.000000   \n",
       "4  0.0  0.0  0.000000  0.600000  0.000000  0.000000  0.000000  0.000000   \n",
       "\n",
       "          P    K  ...   Lu   Hf   Ta    W   Hg        Tl        Pb        Bi  \\\n",
       "0  0.000000  0.0  ...  0.0  0.0  0.0  0.0  0.0  0.000000  0.000000  0.000000   \n",
       "1  0.000000  0.0  ...  0.0  0.0  0.0  0.0  0.0  0.000000  0.105263  0.315789   \n",
       "2  0.000000  0.0  ...  0.0  0.0  0.0  0.0  0.0  0.238094  0.000000  0.000000   \n",
       "3  0.241379  0.0  ...  0.0  0.0  0.0  0.0  0.0  0.000000  0.000000  0.000000   \n",
       "4  0.000000  0.0  ...  0.0  0.0  0.0  0.0  0.0  0.000000  0.000000  0.000000   \n",
       "\n",
       "    Th    U  \n",
       "0  0.0  0.0  \n",
       "1  0.0  0.0  \n",
       "2  0.0  0.0  \n",
       "3  0.0  0.0  \n",
       "4  0.0  0.0  \n",
       "\n",
       "[5 rows x 65 columns]"
      ]
     },
     "execution_count": 6,
     "metadata": {},
     "output_type": "execute_result"
    }
   ],
   "source": [
    "X.head()"
   ]
  },
  {
   "cell_type": "code",
   "execution_count": 7,
   "metadata": {
    "colab": {
     "base_uri": "https://localhost:8080/",
     "height": 35
    },
    "colab_type": "code",
    "id": "YqtLQeNWE2t5",
    "outputId": "3d549e2b-7a39-4939-ccc8-b583794c4b7d"
   },
   "outputs": [
    {
     "name": "stdout",
     "output_type": "stream",
     "text": [
      "MinMaxScaler(copy=True, feature_range=(0, 1))\n"
     ]
    }
   ],
   "source": [
    "# #Scaling the dataset\n",
    "scaler_x = MinMaxScaler()\n",
    "print(scaler_x.fit(X))\n",
    "xscale=scaler_x.transform(X)"
   ]
  },
  {
   "cell_type": "code",
   "execution_count": 8,
   "metadata": {
    "colab": {},
    "colab_type": "code",
    "id": "4ex2OrSWE4v2"
   },
   "outputs": [],
   "source": [
    "#Creating custom metric for RRMSE and R2 score\n",
    "def rrmse(y_true, y_pred):\n",
    "  def r2_keras(y_true, y_pred):\n",
    "      SS_res =  kb.sum(kb.square(y_true - y_pred)) \n",
    "      SS_tot = kb.sum(kb.square(y_true - kb.mean(y_true))) \n",
    "      return ( 1 - SS_res/(SS_tot + kb.epsilon()))\n",
    "  return kb.sqrt(1-r2_keras(y_true, y_pred))\n",
    " "
   ]
  },
  {
   "cell_type": "code",
   "execution_count": 9,
   "metadata": {
    "colab": {
     "base_uri": "https://localhost:8080/",
     "height": 35
    },
    "colab_type": "code",
    "id": "_GcbDX8KE7Xb",
    "outputId": "6a22394f-3fc1-4381-b13c-3a58a3531ce6"
   },
   "outputs": [
    {
     "name": "stdout",
     "output_type": "stream",
     "text": [
      "(51000, 65) (51000,)\n"
     ]
    }
   ],
   "source": [
    "print(xscale.shape, y.shape)"
   ]
  },
  {
   "cell_type": "markdown",
   "metadata": {
    "colab_type": "text",
    "id": "92oO3so4EtxX"
   },
   "source": [
    "Building a Baseline Model"
   ]
  },
  {
   "cell_type": "code",
   "execution_count": 10,
   "metadata": {
    "colab": {},
    "colab_type": "code",
    "id": "YQWYa33uFA_1"
   },
   "outputs": [],
   "source": [
    "#Creating the artificial neural network architecture\n",
    "def create_model():\n",
    "  model = Sequential()\n",
    "  model.add(Dense(50, input_dim=65, activation='relu'))\n",
    "  model.add(Dense(1, activation='relu'))\n",
    "  model.summary()\n",
    "  model.compile(loss='mae', optimizer = \"adam\", metrics=[rrmse, 'mse','mae'])\n",
    "  return model"
   ]
  },
  {
   "cell_type": "code",
   "execution_count": 11,
   "metadata": {
    "colab": {
     "base_uri": "https://localhost:8080/",
     "height": 644
    },
    "colab_type": "code",
    "id": "1mDkn9NXFEON",
    "outputId": "4d5724df-f28e-4933-e29c-d20aac125806"
   },
   "outputs": [
    {
     "name": "stdout",
     "output_type": "stream",
     "text": [
      "Model: \"sequential_1\"\n",
      "_________________________________________________________________\n",
      "Layer (type)                 Output Shape              Param #   \n",
      "=================================================================\n",
      "dense_1 (Dense)              (None, 50)                3300      \n",
      "_________________________________________________________________\n",
      "dense_2 (Dense)              (None, 1)                 51        \n",
      "=================================================================\n",
      "Total params: 3,351\n",
      "Trainable params: 3,351\n",
      "Non-trainable params: 0\n",
      "_________________________________________________________________\n",
      "Train on 40800 samples, validate on 10200 samples\n",
      "Epoch 1/6\n",
      "40800/40800 [==============================] - 3s 68us/step - loss: 604.5530 - rrmse: 5.8169 - mse: 386065.2500 - mae: 604.5532 - val_loss: 666.5094 - val_rrmse: 2925027.2500 - val_mse: 449863.3750 - val_mae: 666.5092\n",
      "Epoch 2/6\n",
      "40800/40800 [==============================] - 2s 55us/step - loss: 160.7043 - rrmse: 1.6781 - mse: 42928.3086 - mae: 160.7042 - val_loss: 201.0560 - val_rrmse: 817690.5625 - val_mse: 46194.4531 - val_mae: 201.0560\n",
      "Epoch 3/6\n",
      "40800/40800 [==============================] - 2s 58us/step - loss: 51.1323 - rrmse: 0.6208 - mse: 4545.1323 - mae: 51.1323 - val_loss: 163.1231 - val_rrmse: 676157.3750 - val_mse: 32423.5332 - val_mae: 163.1231\n",
      "Epoch 4/6\n",
      "40800/40800 [==============================] - 2s 57us/step - loss: 43.0104 - rrmse: 0.5444 - mse: 3483.0771 - mae: 43.0104 - val_loss: 140.9345 - val_rrmse: 593354.8750 - val_mse: 25462.2402 - val_mae: 140.9345\n",
      "Epoch 5/6\n",
      "40800/40800 [==============================] - 2s 56us/step - loss: 40.4753 - rrmse: 0.5237 - mse: 3234.3135 - mae: 40.4753 - val_loss: 126.9759 - val_rrmse: 541422.6875 - val_mse: 21496.3926 - val_mae: 126.9760\n",
      "Epoch 6/6\n",
      "40800/40800 [==============================] - 2s 58us/step - loss: 39.4585 - rrmse: 0.5160 - mse: 3145.2627 - mae: 39.4585 - val_loss: 117.8707 - val_rrmse: 506655.5938 - val_mse: 19100.8965 - val_mae: 117.8707\n"
     ]
    }
   ],
   "source": [
    "model = create_model()\n",
    "num_epochs = 6\n",
    "history = model.fit(xscale, y, epochs=num_epochs,  verbose=1, validation_split=0.2)"
   ]
  },
  {
   "cell_type": "code",
   "execution_count": 12,
   "metadata": {
    "colab": {
     "base_uri": "https://localhost:8080/",
     "height": 313
    },
    "colab_type": "code",
    "id": "8m6sRuaQFGAp",
    "outputId": "5e57da22-248e-4ae7-e21f-528a7fd18125"
   },
   "outputs": [
    {
     "name": "stdout",
     "output_type": "stream",
     "text": [
      "dict_keys(['val_loss', 'val_rrmse', 'val_mse', 'val_mae', 'loss', 'rrmse', 'mse', 'mae'])\n"
     ]
    },
    {
     "data": {
      "image/png": "[encoded data removed]",
      "text/plain": [
       "<Figure size 432x288 with 1 Axes>"
      ]
     },
     "metadata": {
      "needs_background": "light"
     },
     "output_type": "display_data"
    }
   ],
   "source": [
    "print(history.history.keys())\n",
    "plt.plot(history.history['loss'])\n",
    "plt.plot(history.history['val_loss'])\n",
    "plt.title('model loss')\n",
    "plt.ylabel('loss')\n",
    "plt.xlabel('epoch')\n",
    "plt.legend(['train', 'validation'], loc='upper left')\n",
    "plt.show()"
   ]
  },
  {
   "cell_type": "code",
   "execution_count": 13,
   "metadata": {
    "colab": {},
    "colab_type": "code",
    "id": "5v-BztdWFKHA"
   },
   "outputs": [],
   "source": [
    "# training rrmse\n",
    "rrmse_histories = []\n",
    "rrmse_histories.append(history.history['rrmse'])\n",
    "rrmse_history = [np.mean([x[i] for x in rrmse_histories]) for i in range(num_epochs)]"
   ]
  },
  {
   "cell_type": "code",
   "execution_count": 14,
   "metadata": {
    "colab": {},
    "colab_type": "code",
    "id": "UcK65DMjFLJ9"
   },
   "outputs": [],
   "source": [
    "# validation rrmse\n",
    "val_rrmse_histories = []\n",
    "val_rrmse_histories.append(history.history['val_rrmse'])\n",
    "val_rrmse_history = [np.mean([x[i] for x in val_rrmse_histories]) for i in range(num_epochs)]"
   ]
  },
  {
   "cell_type": "code",
   "execution_count": 15,
   "metadata": {
    "colab": {
     "base_uri": "https://localhost:8080/",
     "height": 295
    },
    "colab_type": "code",
    "id": "wcT3KkbfFM4v",
    "outputId": "3fcfdac2-c885-466f-b3d4-aaf54c73926a"
   },
   "outputs": [
    {
     "data": {
      "image/png": "[encoded data removed]",
      "text/plain": [
       "<Figure size 432x288 with 1 Axes>"
      ]
     },
     "metadata": {
      "needs_background": "light"
     },
     "output_type": "display_data"
    }
   ],
   "source": [
    "# plotting validation scores\n",
    "import matplotlib.pyplot as plt\n",
    "plt.plot(range(1,len(rrmse_history) + 1), rrmse_history, 'b', label='Training RRMSE')\n",
    "plt.plot(range(1,len(val_rrmse_history) + 1), val_rrmse_history, 'r', label='Validation RRMSE')\n",
    "plt.title('Validation RRMSE by epoch')\n",
    "plt.xlabel('Epochs')\n",
    "plt.ylabel('RRMSE')\n",
    "plt.legend()\n",
    "plt.show()"
   ]
  },
  {
   "cell_type": "markdown",
   "metadata": {
    "colab_type": "text",
    "id": "s3AYZa0cFOhj"
   },
   "source": [
    "TUNING THE HYPERPARAMETERS IN THE MODEL"
   ]
  },
  {
   "cell_type": "markdown",
   "metadata": {
    "colab_type": "text",
    "id": "MZww7OMAFSr0"
   },
   "source": [
    "**Tuning Batch Size and Epochs**"
   ]
  },
  {
   "cell_type": "code",
   "execution_count": 14,
   "metadata": {
    "colab": {},
    "colab_type": "code",
    "id": "Y1m1NeXsFNVS"
   },
   "outputs": [],
   "source": [
    "def create_model():\n",
    "  model = Sequential()\n",
    "  model.add(Dense(50, input_dim=65, activation='relu'))\n",
    "  model.add(Dense(1, activation='relu'))\n",
    "  model.summary()\n",
    "  model.compile(loss='mae', optimizer = \"adam\", metrics=[rrmse, 'mse','mae'])\n",
    "  return model"
   ]
  },
  {
   "cell_type": "code",
   "execution_count": 15,
   "metadata": {
    "colab": {
     "base_uri": "https://localhost:8080/",
     "height": 800
    },
    "colab_type": "code",
    "id": "Qh-6aq-_FRhC",
    "outputId": "078d72b4-c82f-4920-d1cd-18cedd360faa"
   },
   "outputs": [
    {
     "name": "stdout",
     "output_type": "stream",
     "text": [
      "Model: \"sequential_2\"\n",
      "_________________________________________________________________\n",
      "Layer (type)                 Output Shape              Param #   \n",
      "=================================================================\n",
      "dense_3 (Dense)              (None, 50)                3300      \n",
      "_________________________________________________________________\n",
      "dense_4 (Dense)              (None, 1)                 51        \n",
      "=================================================================\n",
      "Total params: 3,351\n",
      "Trainable params: 3,351\n",
      "Non-trainable params: 0\n",
      "_________________________________________________________________\n",
      "Epoch 1/15\n",
      "51000/51000 [==============================] - 2s 38us/step - loss: 714.6274 - rrmse: 4.8858 - mse: 535785.2500 - mae: 714.6274\n",
      "Epoch 2/15\n",
      "51000/51000 [==============================] - 2s 33us/step - loss: 415.3288 - rrmse: 2.9445 - mse: 208911.8438 - mae: 415.3283\n",
      "Epoch 3/15\n",
      "51000/51000 [==============================] - 2s 34us/step - loss: 108.4928 - rrmse: 0.9138 - mse: 20355.6172 - mae: 108.4928\n",
      "Epoch 4/15\n",
      "51000/51000 [==============================] - 2s 38us/step - loss: 66.1984 - rrmse: 0.5913 - mse: 8097.6475 - mae: 66.1983\n",
      "Epoch 5/15\n",
      "51000/51000 [==============================] - 2s 34us/step - loss: 53.4976 - rrmse: 0.4896 - mse: 5541.4741 - mae: 53.4975\n",
      "Epoch 6/15\n",
      "51000/51000 [==============================] - 2s 31us/step - loss: 48.9453 - rrmse: 0.4533 - mse: 4747.9971 - mae: 48.9453\n",
      "Epoch 7/15\n",
      "51000/51000 [==============================] - 2s 30us/step - loss: 47.0585 - rrmse: 0.4382 - mse: 4442.6953 - mae: 47.0585\n",
      "Epoch 8/15\n",
      "51000/51000 [==============================] - 2s 29us/step - loss: 46.1923 - rrmse: 0.4310 - mse: 4298.7041 - mae: 46.1923\n",
      "Epoch 9/15\n",
      "51000/51000 [==============================] - 1s 29us/step - loss: 45.7257 - rrmse: 0.4273 - mse: 4225.9863 - mae: 45.7257\n",
      "Epoch 10/15\n",
      "51000/51000 [==============================] - 2s 30us/step - loss: 45.4238 - rrmse: 0.4255 - mse: 4181.4502 - mae: 45.4238\n",
      "Epoch 11/15\n",
      "51000/51000 [==============================] - 2s 31us/step - loss: 45.2046 - rrmse: 0.4237 - mse: 4149.1206 - mae: 45.2046\n",
      "Epoch 12/15\n",
      "51000/51000 [==============================] - 2s 30us/step - loss: 44.9981 - rrmse: 0.4217 - mse: 4115.0186 - mae: 44.9981\n",
      "Epoch 13/15\n",
      "51000/51000 [==============================] - 2s 32us/step - loss: 44.8013 - rrmse: 0.4212 - mse: 4088.7246 - mae: 44.8012\n",
      "Epoch 14/15\n",
      "51000/51000 [==============================] - 2s 30us/step - loss: 44.6167 - rrmse: 0.4198 - mse: 4063.7913 - mae: 44.6167\n",
      "Epoch 15/15\n",
      "51000/51000 [==============================] - 2s 32us/step - loss: 44.4504 - rrmse: 0.4180 - mse: 4043.3535 - mae: 44.4503\n"
     ]
    }
   ],
   "source": [
    "model = KerasRegressor(build_fn=create_model, verbose=1)\n",
    "# define the grid search parameters\n",
    "batch_size = [32, 64, 128]\n",
    "epochs= [4,8,15]\n",
    "param_grid = dict(batch_size=batch_size, epochs=epochs)\n",
    "grid = GridSearchCV(estimator=model, param_grid=param_grid, n_jobs=-1, cv=3)\n",
    "grid_result = grid.fit(xscale, y)"
   ]
  },
  {
   "cell_type": "code",
   "execution_count": 17,
   "metadata": {
    "colab": {
     "base_uri": "https://localhost:8080/",
     "height": 191
    },
    "colab_type": "code",
    "id": "s2VuYFxZFXAH",
    "outputId": "22f594af-6d23-4b66-91eb-a26f42e55a2b"
   },
   "outputs": [
    {
     "name": "stdout",
     "output_type": "stream",
     "text": [
      "Best: -85.006368 using {'batch_size': 64, 'epochs': 15}\n",
      "-98.509103 (29.342050) with: {'batch_size': 32, 'epochs': 4}\n",
      "-86.830393 (22.700299) with: {'batch_size': 32, 'epochs': 8}\n",
      "-86.079541 (24.943902) with: {'batch_size': 32, 'epochs': 15}\n",
      "-140.938757 (50.038997) with: {'batch_size': 64, 'epochs': 4}\n",
      "-100.983413 (30.916215) with: {'batch_size': 64, 'epochs': 8}\n",
      "-85.006368 (21.555621) with: {'batch_size': 64, 'epochs': 15}\n",
      "-510.769197 (123.413539) with: {'batch_size': 128, 'epochs': 4}\n",
      "-138.906966 (45.024108) with: {'batch_size': 128, 'epochs': 8}\n",
      "-98.288646 (29.210233) with: {'batch_size': 128, 'epochs': 15}\n"
     ]
    }
   ],
   "source": [
    "# summarize results\n",
    "print(\"Best: %f using %s\" % (grid_result.best_score_, grid_result.best_params_))\n",
    "means = grid_result.cv_results_['mean_test_score']\n",
    "stds = grid_result.cv_results_['std_test_score']\n",
    "params = grid_result.cv_results_['params']\n",
    "for mean, stdev, param in zip(means, stds, params):\n",
    "    print(\"%f (%f) with: %r\" % (mean, stdev, param))"
   ]
  },
  {
   "cell_type": "markdown",
   "metadata": {
    "colab_type": "text",
    "id": "F4i7U2xOFczh"
   },
   "source": [
    "**Tuning the Training Optimization Algorithm**"
   ]
  },
  {
   "cell_type": "code",
   "execution_count": 27,
   "metadata": {
    "colab": {},
    "colab_type": "code",
    "id": "WAjrFTkHFdgT"
   },
   "outputs": [],
   "source": [
    "def create_model(optimizer=\"adam\"):\n",
    "  model = Sequential()\n",
    "  model.add(Dense(50, input_dim=65, activation='relu'))\n",
    "  model.add(Dense(1, activation='relu'))\n",
    "  model.summary()\n",
    "  model.compile(loss='mae', optimizer = optimizer, metrics=[rrmse, 'mse','mae'])\n",
    "  return model\n"
   ]
  },
  {
   "cell_type": "code",
   "execution_count": 28,
   "metadata": {
    "colab": {
     "base_uri": "https://localhost:8080/",
     "height": 260
    },
    "colab_type": "code",
    "id": "abXxug8CFfn8",
    "outputId": "d2523301-04e2-436f-f238-b2a4c163a41d",
    "scrolled": true
   },
   "outputs": [
    {
     "name": "stdout",
     "output_type": "stream",
     "text": [
      "Model: \"sequential_5\"\n",
      "_________________________________________________________________\n",
      "Layer (type)                 Output Shape              Param #   \n",
      "=================================================================\n",
      "dense_9 (Dense)              (None, 50)                3300      \n",
      "_________________________________________________________________\n",
      "dense_10 (Dense)             (None, 1)                 51        \n",
      "=================================================================\n",
      "Total params: 3,351\n",
      "Trainable params: 3,351\n",
      "Non-trainable params: 0\n",
      "_________________________________________________________________\n"
     ]
    }
   ],
   "source": [
    "model = KerasRegressor(build_fn=create_model, epochs=15, batch_size=64, verbose=0)\n",
    "# define the grid search parameters\n",
    "optimizer = ['RMSprop', 'Nadam', 'Adam']\n",
    "param_grid = dict(optimizer=optimizer)\n",
    "grid = GridSearchCV(estimator=model, param_grid=param_grid, n_jobs=-1, cv=3)\n",
    "grid_result = grid.fit(xscale, y)"
   ]
  },
  {
   "cell_type": "code",
   "execution_count": 29,
   "metadata": {
    "colab": {},
    "colab_type": "code",
    "id": "IaNPA3LDFhC1",
    "outputId": "0664432e-d988-4de6-d00d-8d4b0f06b7cf"
   },
   "outputs": [
    {
     "name": "stdout",
     "output_type": "stream",
     "text": [
      "Best: -85.911185 using {'optimizer': 'Nadam'}\n",
      "-86.912375 (22.647786) with: {'optimizer': 'RMSprop'}\n",
      "-85.911185 (23.892168) with: {'optimizer': 'Nadam'}\n",
      "-86.557736 (23.753028) with: {'optimizer': 'Adam'}\n"
     ]
    }
   ],
   "source": [
    "print(\"Best: %f using %s\" % (grid_result.best_score_, grid_result.best_params_))\n",
    "means = grid_result.cv_results_['mean_test_score']\n",
    "stds = grid_result.cv_results_['std_test_score']\n",
    "params = grid_result.cv_results_['params']\n",
    "for mean, stdev, param in zip(means, stds, params):\n",
    "    print(\"%f (%f) with: %r\" % (mean, stdev, param))"
   ]
  },
  {
   "cell_type": "code",
   "execution_count": 30,
   "metadata": {
    "colab": {},
    "colab_type": "code",
    "id": "ndpps5ceLgiF"
   },
   "outputs": [],
   "source": [
    "from keras.optimizers import Nadam"
   ]
  },
  {
   "cell_type": "markdown",
   "metadata": {
    "colab_type": "text",
    "id": "fjh3M7x1FjKG"
   },
   "source": [
    "**Tuning the Kernel Initializer**"
   ]
  },
  {
   "cell_type": "code",
   "execution_count": 31,
   "metadata": {
    "colab": {},
    "colab_type": "code",
    "id": "staqbEbbFmbO"
   },
   "outputs": [],
   "source": [
    "def create_model(init_mode1='uniform'):\n",
    "  model = Sequential()\n",
    "  model.add(Dense(50, input_dim=65, kernel_initializer=init_mode1, activation='relu'))\n",
    "  model.add(Dense(1, activation='linear'))\n",
    "  model.summary()\n",
    "  model.compile(loss='mae', optimizer = 'Nadam', metrics=[rrmse, 'mse','mae'])\n",
    "  return model"
   ]
  },
  {
   "cell_type": "code",
   "execution_count": 32,
   "metadata": {
    "colab": {},
    "colab_type": "code",
    "id": "SgZ4PMikFohP",
    "outputId": "7a007142-a9d8-4f2f-8639-066ca4d583d0"
   },
   "outputs": [
    {
     "name": "stdout",
     "output_type": "stream",
     "text": [
      "Model: \"sequential_6\"\n",
      "_________________________________________________________________\n",
      "Layer (type)                 Output Shape              Param #   \n",
      "=================================================================\n",
      "dense_11 (Dense)             (None, 50)                3300      \n",
      "_________________________________________________________________\n",
      "dense_12 (Dense)             (None, 1)                 51        \n",
      "=================================================================\n",
      "Total params: 3,351\n",
      "Trainable params: 3,351\n",
      "Non-trainable params: 0\n",
      "_________________________________________________________________\n",
      "Epoch 1/15\n",
      "51000/51000 [==============================] - 2s 40us/step - loss: 592.5007 - rrmse: 4.0897 - mse: 396487.0312 - mae: 592.5006\n",
      "Epoch 2/15\n",
      "51000/51000 [==============================] - 2s 35us/step - loss: 101.5750 - rrmse: 0.8566 - mse: 19336.5527 - mae: 101.5750\n",
      "Epoch 3/15\n",
      "51000/51000 [==============================] - 2s 33us/step - loss: 54.2421 - rrmse: 0.4960 - mse: 5693.7153 - mae: 54.2421\n",
      "Epoch 4/15\n",
      "51000/51000 [==============================] - 2s 32us/step - loss: 47.8352 - rrmse: 0.4443 - mse: 4564.2749 - mae: 47.8352\n",
      "Epoch 5/15\n",
      "51000/51000 [==============================] - 2s 35us/step - loss: 46.2624 - rrmse: 0.4314 - mse: 4302.6362 - mae: 46.2624\n",
      "Epoch 6/15\n",
      "51000/51000 [==============================] - 2s 32us/step - loss: 45.7411 - rrmse: 0.4276 - mse: 4220.8330 - mae: 45.7411\n",
      "Epoch 7/15\n",
      "51000/51000 [==============================] - 2s 32us/step - loss: 45.5209 - rrmse: 0.4259 - mse: 4188.3564 - mae: 45.5209\n",
      "Epoch 8/15\n",
      "51000/51000 [==============================] - 2s 32us/step - loss: 45.4056 - rrmse: 0.4252 - mse: 4171.3433 - mae: 45.4056\n",
      "Epoch 9/15\n",
      "51000/51000 [==============================] - 2s 32us/step - loss: 45.3432 - rrmse: 0.4247 - mse: 4160.2534 - mae: 45.3432\n",
      "Epoch 10/15\n",
      "51000/51000 [==============================] - 2s 32us/step - loss: 45.2957 - rrmse: 0.4244 - mse: 4155.0747 - mae: 45.2957\n",
      "Epoch 11/15\n",
      "51000/51000 [==============================] - 2s 33us/step - loss: 45.2729 - rrmse: 0.4238 - mse: 4150.4497 - mae: 45.2729\n",
      "Epoch 12/15\n",
      "51000/51000 [==============================] - 2s 34us/step - loss: 45.2450 - rrmse: 0.4237 - mse: 4149.9556 - mae: 45.2450\n",
      "Epoch 13/15\n",
      "51000/51000 [==============================] - 2s 31us/step - loss: 45.2314 - rrmse: 0.4234 - mse: 4146.4829 - mae: 45.2314\n",
      "Epoch 14/15\n",
      "51000/51000 [==============================] - 2s 32us/step - loss: 45.2213 - rrmse: 0.4239 - mse: 4143.2158 - mae: 45.2213\n",
      "Epoch 15/15\n",
      "51000/51000 [==============================] - 2s 32us/step - loss: 45.2137 - rrmse: 0.4231 - mse: 4144.7603 - mae: 45.2137\n"
     ]
    }
   ],
   "source": [
    "model = KerasRegressor(build_fn=create_model, epochs=15, batch_size=64, verbose=1)\n",
    "# define the grid search parameters\n",
    "init_modes = ['uniform', 'lecun_uniform', 'normal']\n",
    "param_grid = dict(init_mode1=init_modes)\n",
    "grid = GridSearchCV(estimator=model, param_grid=param_grid, n_jobs=-1, cv=3)\n",
    "grid_result = grid.fit(xscale, y)"
   ]
  },
  {
   "cell_type": "code",
   "execution_count": 33,
   "metadata": {
    "colab": {},
    "colab_type": "code",
    "id": "CpC7A-VxFrMv",
    "outputId": "015c2d08-a189-4c47-aa48-2d79a99ada5a"
   },
   "outputs": [
    {
     "name": "stdout",
     "output_type": "stream",
     "text": [
      "Best: -82.139950 using {'init_mode1': 'uniform'}\n",
      "-82.139950 (19.269129) with: {'init_mode1': 'uniform'}\n",
      "-86.137367 (25.803580) with: {'init_mode1': 'lecun_uniform'}\n",
      "-84.580408 (21.948785) with: {'init_mode1': 'normal'}\n"
     ]
    }
   ],
   "source": [
    "print(\"Best: %f using %s\" % (grid_result.best_score_, grid_result.best_params_))\n",
    "means = grid_result.cv_results_['mean_test_score']\n",
    "stds = grid_result.cv_results_['std_test_score']\n",
    "params = grid_result.cv_results_['params']\n",
    "for mean, stdev, param in zip(means, stds, params):\n",
    "    print(\"%f (%f) with: %r\" % (mean, stdev, param))"
   ]
  },
  {
   "cell_type": "markdown",
   "metadata": {
    "colab_type": "text",
    "id": "INHNIYopFtoD"
   },
   "source": [
    "**Tuning Neuron Activation Function**"
   ]
  },
  {
   "cell_type": "code",
   "execution_count": 34,
   "metadata": {
    "colab": {},
    "colab_type": "code",
    "id": "ZLEzLuL2Ft9c"
   },
   "outputs": [],
   "source": [
    "def create_model(activation1='relu',activation3='relu'):\n",
    "  model = Sequential()\n",
    "  model.add(Dense(50, input_dim=65, kernel_initializer='uniform', activation=activation1))\n",
    "  model.add(Dense(1, activation=activation3))\n",
    "  model.summary()\n",
    "  model.compile(loss='mae', optimizer = 'Nadam', metrics=[rrmse, 'mse','mae'])\n",
    "  return model"
   ]
  },
  {
   "cell_type": "code",
   "execution_count": 35,
   "metadata": {
    "colab": {},
    "colab_type": "code",
    "id": "RlJL3WijGF0T",
    "outputId": "f3569dd7-d4c7-44ae-fa2e-39f1abd5323b"
   },
   "outputs": [
    {
     "name": "stdout",
     "output_type": "stream",
     "text": [
      "Model: \"sequential_7\"\n",
      "_________________________________________________________________\n",
      "Layer (type)                 Output Shape              Param #   \n",
      "=================================================================\n",
      "dense_13 (Dense)             (None, 50)                3300      \n",
      "_________________________________________________________________\n",
      "dense_14 (Dense)             (None, 1)                 51        \n",
      "=================================================================\n",
      "Total params: 3,351\n",
      "Trainable params: 3,351\n",
      "Non-trainable params: 0\n",
      "_________________________________________________________________\n",
      "Epoch 1/15\n",
      "51000/51000 [==============================] - 2s 41us/step - loss: 480.0301 - rrmse: 3.3596 - mse: 305704.1875 - mae: 480.0298\n",
      "Epoch 2/15\n",
      "51000/51000 [==============================] - 2s 34us/step - loss: 64.5442 - rrmse: 0.5773 - mse: 7864.6626 - mae: 64.5442\n",
      "Epoch 3/15\n",
      "51000/51000 [==============================] - 2s 34us/step - loss: 48.3572 - rrmse: 0.4486 - mse: 4653.3198 - mae: 48.3572\n",
      "Epoch 4/15\n",
      "51000/51000 [==============================] - 2s 35us/step - loss: 46.1317 - rrmse: 0.4309 - mse: 4280.5103 - mae: 46.1317\n",
      "Epoch 5/15\n",
      "51000/51000 [==============================] - 2s 34us/step - loss: 45.6063 - rrmse: 0.4267 - mse: 4200.9590 - mae: 45.6063\n",
      "Epoch 6/15\n",
      "51000/51000 [==============================] - 2s 33us/step - loss: 45.4258 - rrmse: 0.4250 - mse: 4174.2778 - mae: 45.4258\n",
      "Epoch 7/15\n",
      "51000/51000 [==============================] - 2s 34us/step - loss: 45.3479 - rrmse: 0.4254 - mse: 4164.8926 - mae: 45.3479\n",
      "Epoch 8/15\n",
      "51000/51000 [==============================] - 2s 35us/step - loss: 45.2881 - rrmse: 0.4237 - mse: 4156.9561 - mae: 45.2881\n",
      "Epoch 9/15\n",
      "51000/51000 [==============================] - 2s 34us/step - loss: 45.2706 - rrmse: 0.4239 - mse: 4148.0576 - mae: 45.2706\n",
      "Epoch 10/15\n",
      "51000/51000 [==============================] - 2s 34us/step - loss: 45.2360 - rrmse: 0.4233 - mse: 4145.5127 - mae: 45.2360\n",
      "Epoch 11/15\n",
      "51000/51000 [==============================] - 2s 34us/step - loss: 45.2292 - rrmse: 0.4240 - mse: 4146.1924 - mae: 45.2292\n",
      "Epoch 12/15\n",
      "51000/51000 [==============================] - 2s 35us/step - loss: 45.2279 - rrmse: 0.4248 - mse: 4148.1162 - mae: 45.2279\n",
      "Epoch 13/15\n",
      "51000/51000 [==============================] - 2s 34us/step - loss: 45.2218 - rrmse: 0.4240 - mse: 4143.7397 - mae: 45.2218\n",
      "Epoch 14/15\n",
      "51000/51000 [==============================] - 2s 36us/step - loss: 45.2227 - rrmse: 0.4238 - mse: 4148.0503 - mae: 45.2226\n",
      "Epoch 15/15\n",
      "51000/51000 [==============================] - 2s 45us/step - loss: 45.2096 - rrmse: 0.4239 - mse: 4144.8999 - mae: 45.2096\n"
     ]
    }
   ],
   "source": [
    "model = KerasRegressor(build_fn=create_model, epochs=15, batch_size=64, verbose=1)\n",
    "# define the grid search parameters\n",
    "activation = ['relu', 'tanh', 'linear']\n",
    "param_grid = dict(activation1=activation,activation3=activation)\n",
    "grid = GridSearchCV(estimator=model, param_grid=param_grid, n_jobs=-1, cv=3)\n",
    "grid_result = grid.fit(xscale, y)"
   ]
  },
  {
   "cell_type": "code",
   "execution_count": 36,
   "metadata": {
    "colab": {},
    "colab_type": "code",
    "id": "scK0uzawG5tr",
    "outputId": "1f63bae8-4cfb-49fb-82cc-757e50e83b6d",
    "scrolled": true
   },
   "outputs": [
    {
     "name": "stdout",
     "output_type": "stream",
     "text": [
      "Best: -80.083720 using {'activation1': 'linear', 'activation3': 'linear'}\n",
      "-82.606124 (19.744989) with: {'activation1': 'relu', 'activation3': 'relu'}\n",
      "-766.648558 (136.384564) with: {'activation1': 'relu', 'activation3': 'tanh'}\n",
      "-83.467604 (20.479870) with: {'activation1': 'relu', 'activation3': 'linear'}\n",
      "-165.878017 (73.118997) with: {'activation1': 'tanh', 'activation3': 'relu'}\n",
      "-766.648558 (136.384565) with: {'activation1': 'tanh', 'activation3': 'tanh'}\n",
      "-165.655816 (73.873975) with: {'activation1': 'tanh', 'activation3': 'linear'}\n",
      "-83.063460 (20.538096) with: {'activation1': 'linear', 'activation3': 'relu'}\n",
      "-766.648558 (136.384565) with: {'activation1': 'linear', 'activation3': 'tanh'}\n",
      "-80.083720 (18.515636) with: {'activation1': 'linear', 'activation3': 'linear'}\n"
     ]
    }
   ],
   "source": [
    "print(\"Best: %f using %s\" % (grid_result.best_score_, grid_result.best_params_))\n",
    "means = grid_result.cv_results_['mean_test_score']\n",
    "stds = grid_result.cv_results_['std_test_score']\n",
    "params = grid_result.cv_results_['params']\n",
    "for mean, stdev, param in zip(means, stds, params):\n",
    "    print(\"%f (%f) with: %r\" % (mean, stdev, param))"
   ]
  },
  {
   "cell_type": "markdown",
   "metadata": {
    "colab_type": "text",
    "id": "R4NGaxX4HBZH"
   },
   "source": [
    "**Tuning Dropout Regularization**"
   ]
  },
  {
   "cell_type": "code",
   "execution_count": 38,
   "metadata": {
    "colab": {},
    "colab_type": "code",
    "id": "V4Ipsi59HERv"
   },
   "outputs": [],
   "source": [
    "def create_model(dropout_rate=0.0):\n",
    "  model = Sequential()\n",
    "  model.add(Dense(50, input_dim=65, kernel_initializer='uniform', activation='linear'))\n",
    "  model.add(Dropout(dropout_rate))\n",
    "  model.add(Dense(1, activation='linear'))\n",
    "  model.summary()\n",
    "  model.compile(loss='mae', optimizer = 'Nadam', metrics=[rrmse, 'mse','mae'])\n",
    "  return model"
   ]
  },
  {
   "cell_type": "code",
   "execution_count": 39,
   "metadata": {
    "colab": {},
    "colab_type": "code",
    "id": "XXR7iLDaHUA3",
    "outputId": "e5be04bf-1431-4442-c1a2-23342342776f"
   },
   "outputs": [
    {
     "name": "stdout",
     "output_type": "stream",
     "text": [
      "Model: \"sequential_8\"\n",
      "_________________________________________________________________\n",
      "Layer (type)                 Output Shape              Param #   \n",
      "=================================================================\n",
      "dense_15 (Dense)             (None, 50)                3300      \n",
      "_________________________________________________________________\n",
      "dropout_1 (Dropout)          (None, 50)                0         \n",
      "_________________________________________________________________\n",
      "dense_16 (Dense)             (None, 1)                 51        \n",
      "=================================================================\n",
      "Total params: 3,351\n",
      "Trainable params: 3,351\n",
      "Non-trainable params: 0\n",
      "_________________________________________________________________\n",
      "Epoch 1/15\n",
      "51000/51000 [==============================] - 2s 49us/step - loss: 479.1058 - rrmse: 3.3604 - mse: 304428.4375 - mae: 479.1058\n",
      "Epoch 2/15\n",
      "51000/51000 [==============================] - 2s 39us/step - loss: 64.6044 - rrmse: 0.5777 - mse: 7874.2432 - mae: 64.6044\n",
      "Epoch 3/15\n",
      "51000/51000 [==============================] - 2s 37us/step - loss: 48.2876 - rrmse: 0.4480 - mse: 4634.1118 - mae: 48.2875\n",
      "Epoch 4/15\n",
      "51000/51000 [==============================] - 2s 40us/step - loss: 46.1084 - rrmse: 0.4308 - mse: 4281.5151 - mae: 46.1084\n",
      "Epoch 5/15\n",
      "51000/51000 [==============================] - 2s 35us/step - loss: 45.6136 - rrmse: 0.4263 - mse: 4201.2207 - mae: 45.6136\n",
      "Epoch 6/15\n",
      "51000/51000 [==============================] - 2s 34us/step - loss: 45.4272 - rrmse: 0.4249 - mse: 4173.5601 - mae: 45.4272\n",
      "Epoch 7/15\n",
      "51000/51000 [==============================] - 2s 32us/step - loss: 45.3419 - rrmse: 0.4243 - mse: 4159.0723 - mae: 45.3419\n",
      "Epoch 8/15\n",
      "51000/51000 [==============================] - 2s 36us/step - loss: 45.2910 - rrmse: 0.4237 - mse: 4154.9985 - mae: 45.2910\n",
      "Epoch 9/15\n",
      "51000/51000 [==============================] - 2s 34us/step - loss: 45.2567 - rrmse: 0.4240 - mse: 4146.8149 - mae: 45.2567\n",
      "Epoch 10/15\n",
      "51000/51000 [==============================] - 2s 35us/step - loss: 45.2400 - rrmse: 0.4240 - mse: 4149.9897 - mae: 45.2401\n",
      "Epoch 11/15\n",
      "51000/51000 [==============================] - 2s 46us/step - loss: 45.2381 - rrmse: 0.4232 - mse: 4147.2246 - mae: 45.2381\n",
      "Epoch 12/15\n",
      "51000/51000 [==============================] - 3s 51us/step - loss: 45.2257 - rrmse: 0.4244 - mse: 4145.8271 - mae: 45.2257\n",
      "Epoch 13/15\n",
      "51000/51000 [==============================] - 2s 45us/step - loss: 45.2219 - rrmse: 0.4233 - mse: 4143.4478 - mae: 45.2219\n",
      "Epoch 14/15\n",
      "51000/51000 [==============================] - 2s 39us/step - loss: 45.2275 - rrmse: 0.4232 - mse: 4147.2656 - mae: 45.2276\n",
      "Epoch 15/15\n",
      "51000/51000 [==============================] - 2s 38us/step - loss: 45.2152 - rrmse: 0.4231 - mse: 4143.3115 - mae: 45.2152\n"
     ]
    }
   ],
   "source": [
    "model = KerasRegressor(build_fn=create_model, epochs=15, batch_size=64, verbose=1)\n",
    "# define the grid search parameters\n",
    "dropout_rate = [0.0, 0.1, 0.2, 0.3, 0.4, 0.5, 0.6, 0.7, 0.8, 0.9]\n",
    "param_grid = dict(dropout_rate=dropout_rate)\n",
    "grid = GridSearchCV(estimator=model, param_grid=param_grid, n_jobs=-1, cv=3)\n",
    "grid_result = grid.fit(xscale, y)"
   ]
  },
  {
   "cell_type": "code",
   "execution_count": 40,
   "metadata": {
    "colab": {},
    "colab_type": "code",
    "id": "9ahIxSx-HWcb",
    "outputId": "09d47aeb-7bd8-4ced-9ce4-55e17faef798"
   },
   "outputs": [
    {
     "name": "stdout",
     "output_type": "stream",
     "text": [
      "Best: -81.125097 using {'dropout_rate': 0.0}\n",
      "-81.125097 (18.842825) with: {'dropout_rate': 0.0}\n",
      "-82.752335 (21.639799) with: {'dropout_rate': 0.1}\n",
      "-83.280191 (22.927004) with: {'dropout_rate': 0.2}\n",
      "-85.020299 (23.551930) with: {'dropout_rate': 0.3}\n",
      "-86.879940 (25.684575) with: {'dropout_rate': 0.4}\n",
      "-90.062265 (28.748039) with: {'dropout_rate': 0.5}\n",
      "-92.275440 (33.538475) with: {'dropout_rate': 0.6}\n",
      "-95.245091 (39.383429) with: {'dropout_rate': 0.7}\n",
      "-101.110563 (51.724261) with: {'dropout_rate': 0.8}\n",
      "-133.484046 (87.273857) with: {'dropout_rate': 0.9}\n"
     ]
    }
   ],
   "source": [
    "print(\"Best: %f using %s\" % (grid_result.best_score_, grid_result.best_params_))\n",
    "means = grid_result.cv_results_['mean_test_score']\n",
    "stds = grid_result.cv_results_['std_test_score']\n",
    "params = grid_result.cv_results_['params']\n",
    "for mean, stdev, param in zip(means, stds, params):\n",
    "    print(\"%f (%f) with: %r\" % (mean, stdev, param))"
   ]
  },
  {
   "cell_type": "markdown",
   "metadata": {
    "colab_type": "text",
    "id": "8OhCE3QFHYYV"
   },
   "source": [
    "**Tuning Number of Neurons in the Hidden Layer**"
   ]
  },
  {
   "cell_type": "code",
   "execution_count": 41,
   "metadata": {
    "colab": {},
    "colab_type": "code",
    "id": "koKVNGMIHg8T"
   },
   "outputs": [],
   "source": [
    "def create_model(neuron1=10):\n",
    "  model = Sequential()\n",
    "  model.add(Dense(neuron1, input_dim=65, kernel_initializer='uniform', activation='linear'))\n",
    "  model.add(Dropout(0.0))\n",
    "  model.add(Dense(1, activation='linear'))\n",
    "  model.summary()\n",
    "  model.compile(loss='mae', optimizer = 'Nadam', metrics=[rrmse, 'mse','mae'])\n",
    "  return model"
   ]
  },
  {
   "cell_type": "code",
   "execution_count": 42,
   "metadata": {
    "colab": {},
    "colab_type": "code",
    "id": "kOulS6vfHltE",
    "outputId": "6b3d7dc4-a209-4697-bf5f-fb1616f7626a"
   },
   "outputs": [
    {
     "name": "stdout",
     "output_type": "stream",
     "text": [
      "Model: \"sequential_9\"\n",
      "_________________________________________________________________\n",
      "Layer (type)                 Output Shape              Param #   \n",
      "=================================================================\n",
      "dense_17 (Dense)             (None, 64)                4224      \n",
      "_________________________________________________________________\n",
      "dropout_2 (Dropout)          (None, 64)                0         \n",
      "_________________________________________________________________\n",
      "dense_18 (Dense)             (None, 1)                 65        \n",
      "=================================================================\n",
      "Total params: 4,289\n",
      "Trainable params: 4,289\n",
      "Non-trainable params: 0\n",
      "_________________________________________________________________\n",
      "Epoch 1/15\n",
      "51000/51000 [==============================] - 3s 49us/step - loss: 433.2871 - rrmse: 3.0529 - mse: 270797.1875 - mae: 433.2873\n",
      "Epoch 2/15\n",
      "51000/51000 [==============================] - 2s 43us/step - loss: 58.4355 - rrmse: 0.5294 - mse: 6560.1426 - mae: 58.4355\n",
      "Epoch 3/15\n",
      "51000/51000 [==============================] - 2s 38us/step - loss: 47.1962 - rrmse: 0.4391 - mse: 4453.7065 - mae: 47.1962\n",
      "Epoch 4/15\n",
      "51000/51000 [==============================] - 2s 47us/step - loss: 45.8099 - rrmse: 0.4280 - mse: 4231.7910 - mae: 45.8099\n",
      "Epoch 5/15\n",
      "51000/51000 [==============================] - 2s 38us/step - loss: 45.4793 - rrmse: 0.4252 - mse: 4180.0986 - mae: 45.4793\n",
      "Epoch 6/15\n",
      "51000/51000 [==============================] - 2s 49us/step - loss: 45.3561 - rrmse: 0.4249 - mse: 4161.7222 - mae: 45.3561\n",
      "Epoch 7/15\n",
      "51000/51000 [==============================] - 2s 40us/step - loss: 45.3008 - rrmse: 0.4243 - mse: 4154.3911 - mae: 45.3008\n",
      "Epoch 8/15\n",
      "51000/51000 [==============================] - 2s 46us/step - loss: 45.2669 - rrmse: 0.4234 - mse: 4148.1118 - mae: 45.2669\n",
      "Epoch 9/15\n",
      "51000/51000 [==============================] - 2s 42us/step - loss: 45.2522 - rrmse: 0.4237 - mse: 4151.5186 - mae: 45.2521\n",
      "Epoch 10/15\n",
      "51000/51000 [==============================] - 2s 39us/step - loss: 45.2403 - rrmse: 0.4237 - mse: 4144.4180 - mae: 45.2403\n",
      "Epoch 11/15\n",
      "51000/51000 [==============================] - 3s 52us/step - loss: 45.2343 - rrmse: 0.4235 - mse: 4148.4453 - mae: 45.2343\n",
      "Epoch 12/15\n",
      "51000/51000 [==============================] - 2s 42us/step - loss: 45.2216 - rrmse: 0.4235 - mse: 4145.1968 - mae: 45.2216\n",
      "Epoch 13/15\n",
      "51000/51000 [==============================] - 2s 40us/step - loss: 45.2256 - rrmse: 0.4230 - mse: 4144.2246 - mae: 45.2256\n",
      "Epoch 14/15\n",
      "51000/51000 [==============================] - 2s 35us/step - loss: 45.2204 - rrmse: 0.4229 - mse: 4143.1562 - mae: 45.2205\n",
      "Epoch 15/15\n",
      "51000/51000 [==============================] - 2s 35us/step - loss: 45.2186 - rrmse: 0.4234 - mse: 4148.7114 - mae: 45.2186\n"
     ]
    }
   ],
   "source": [
    "model = KerasRegressor(build_fn=create_model, epochs=15, batch_size=64, verbose=1)\n",
    "# define the grid search parameters\n",
    "neurons = [10, 20, 32, 50, 64]\n",
    "param_grid = dict(neuron1=neurons)\n",
    "grid = GridSearchCV(estimator=model, param_grid=param_grid, n_jobs=-1, cv=3)\n",
    "grid_result = grid.fit(xscale, y)"
   ]
  },
  {
   "cell_type": "code",
   "execution_count": 43,
   "metadata": {
    "colab": {},
    "colab_type": "code",
    "id": "iF7IFN8HIah6",
    "outputId": "b074ea84-fbe1-4e34-a8b5-dee80436bb86",
    "scrolled": true
   },
   "outputs": [
    {
     "name": "stdout",
     "output_type": "stream",
     "text": [
      "Best: -81.111876 using {'neuron1': 64}\n",
      "-83.744053 (20.384251) with: {'neuron1': 10}\n",
      "-83.215473 (20.623117) with: {'neuron1': 20}\n",
      "-83.331469 (19.898617) with: {'neuron1': 32}\n",
      "-81.284612 (18.943718) with: {'neuron1': 50}\n",
      "-81.111876 (18.264503) with: {'neuron1': 64}\n"
     ]
    }
   ],
   "source": [
    "print(\"Best: %f using %s\" % (grid_result.best_score_, grid_result.best_params_))\n",
    "means = grid_result.cv_results_['mean_test_score']\n",
    "stds = grid_result.cv_results_['std_test_score']\n",
    "params = grid_result.cv_results_['params']\n",
    "for mean, stdev, param in zip(means, stds, params):\n",
    "    print(\"%f (%f) with: %r\" % (mean, stdev, param))"
   ]
  },
  {
   "cell_type": "code",
   "execution_count": 0,
   "metadata": {
    "colab": {},
    "colab_type": "code",
    "id": "SFBtwDEpRK_K"
   },
   "outputs": [],
   "source": []
  }
 ],
 "metadata": {
  "colab": {
   "collapsed_sections": [],
   "name": "GlassTransitionTemperature_ANN.ipynb",
   "provenance": []
  },
  "kernelspec": {
   "display_name": "Python 3",
   "language": "python",
   "name": "python3"
  },
  "language_info": {
   "codemirror_mode": {
    "name": "ipython",
    "version": 3
   },
   "file_extension": ".py",
   "mimetype": "text/x-python",
   "name": "python",
   "nbconvert_exporter": "python",
   "pygments_lexer": "ipython3",
   "version": "3.7.4"
  }
 },
 "nbformat": 4,
 "nbformat_minor": 1
}
