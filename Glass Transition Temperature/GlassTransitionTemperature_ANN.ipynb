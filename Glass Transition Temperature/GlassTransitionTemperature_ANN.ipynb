{
 "cells": [
  {
   "cell_type": "markdown",
   "metadata": {
    "colab_type": "text",
    "id": "v2veVuQwEep6"
   },
   "source": [
    "Importing Libraries"
   ]
  },
  {
   "cell_type": "code",
   "execution_count": 1,
   "metadata": {
    "colab": {},
    "colab_type": "code",
    "id": "ecKjr-nJEdUU"
   },
   "outputs": [
    {
     "name": "stderr",
     "output_type": "stream",
     "text": [
      "Using TensorFlow backend.\n"
     ]
    }
   ],
   "source": [
    "import numpy as np\n",
    "import pandas as pd\n",
    "import keras.backend as kb\n",
    "import matplotlib.pyplot as plt\n",
    "from keras.models import Sequential\n",
    "from keras.layers import Dense\n",
    "from keras.layers import Dropout\n",
    "from keras.wrappers.scikit_learn import KerasRegressor\n",
    "from sklearn.model_selection import cross_val_score\n",
    "from sklearn.model_selection import KFold, train_test_split\n",
    "from sklearn.preprocessing import StandardScaler, MinMaxScaler\n",
    "from sklearn.pipeline import Pipeline\n",
    "from sklearn.model_selection import GridSearchCV\n",
    "from sklearn.metrics import r2_score, make_scorer\n",
    "# %matplotlib inline\n"
   ]
  },
  {
   "cell_type": "markdown",
   "metadata": {
    "colab_type": "text",
    "id": "RzC32V6LErU1"
   },
   "source": [
    "Import Data"
   ]
  },
  {
   "cell_type": "code",
   "execution_count": 2,
   "metadata": {
    "colab": {},
    "colab_type": "code",
    "id": "CNmnZxelEnMz"
   },
   "outputs": [],
   "source": [
    "df = pd.read_csv(\"glass_data.csv\")"
   ]
  },
  {
   "cell_type": "code",
   "execution_count": 3,
   "metadata": {
    "colab": {},
    "colab_type": "code",
    "id": "jfFgxZtVEvq6"
   },
   "outputs": [],
   "source": [
    "# define X and y\n",
    "X = df.iloc[:,1:-1]\n",
    "y = df['Tg'] # glass transition temperature"
   ]
  },
  {
   "cell_type": "code",
   "execution_count": 4,
   "metadata": {
    "colab": {
     "base_uri": "https://localhost:8080/",
     "height": 222
    },
    "colab_type": "code",
    "id": "Qh8X-SHwE0Ev",
    "outputId": "a88c37ac-a9e2-421f-e25a-4d333e0d0fc7"
   },
   "outputs": [
    {
     "data": {
      "text/html": [
       "<div>\n",
       "<style scoped>\n",
       "    .dataframe tbody tr th:only-of-type {\n",
       "        vertical-align: middle;\n",
       "    }\n",
       "\n",
       "    .dataframe tbody tr th {\n",
       "        vertical-align: top;\n",
       "    }\n",
       "\n",
       "    .dataframe thead th {\n",
       "        text-align: right;\n",
       "    }\n",
       "</style>\n",
       "<table border=\"1\" class=\"dataframe\">\n",
       "  <thead>\n",
       "    <tr style=\"text-align: right;\">\n",
       "      <th></th>\n",
       "      <th>Li</th>\n",
       "      <th>Be</th>\n",
       "      <th>B</th>\n",
       "      <th>O</th>\n",
       "      <th>Na</th>\n",
       "      <th>Mg</th>\n",
       "      <th>Al</th>\n",
       "      <th>Si</th>\n",
       "      <th>P</th>\n",
       "      <th>K</th>\n",
       "      <th>...</th>\n",
       "      <th>Lu</th>\n",
       "      <th>Hf</th>\n",
       "      <th>Ta</th>\n",
       "      <th>W</th>\n",
       "      <th>Hg</th>\n",
       "      <th>Tl</th>\n",
       "      <th>Pb</th>\n",
       "      <th>Bi</th>\n",
       "      <th>Th</th>\n",
       "      <th>U</th>\n",
       "    </tr>\n",
       "  </thead>\n",
       "  <tbody>\n",
       "    <tr>\n",
       "      <th>0</th>\n",
       "      <td>0.0</td>\n",
       "      <td>0.0</td>\n",
       "      <td>0.099699</td>\n",
       "      <td>0.628564</td>\n",
       "      <td>0.000000</td>\n",
       "      <td>0.008412</td>\n",
       "      <td>0.052889</td>\n",
       "      <td>0.180302</td>\n",
       "      <td>0.000000</td>\n",
       "      <td>0.0</td>\n",
       "      <td>...</td>\n",
       "      <td>0.0</td>\n",
       "      <td>0.0</td>\n",
       "      <td>0.0</td>\n",
       "      <td>0.0</td>\n",
       "      <td>0.0</td>\n",
       "      <td>0.000000</td>\n",
       "      <td>0.000000</td>\n",
       "      <td>0.000000</td>\n",
       "      <td>0.0</td>\n",
       "      <td>0.0</td>\n",
       "    </tr>\n",
       "    <tr>\n",
       "      <th>1</th>\n",
       "      <td>0.0</td>\n",
       "      <td>0.0</td>\n",
       "      <td>0.000000</td>\n",
       "      <td>0.578947</td>\n",
       "      <td>0.000000</td>\n",
       "      <td>0.000000</td>\n",
       "      <td>0.000000</td>\n",
       "      <td>0.000000</td>\n",
       "      <td>0.000000</td>\n",
       "      <td>0.0</td>\n",
       "      <td>...</td>\n",
       "      <td>0.0</td>\n",
       "      <td>0.0</td>\n",
       "      <td>0.0</td>\n",
       "      <td>0.0</td>\n",
       "      <td>0.0</td>\n",
       "      <td>0.000000</td>\n",
       "      <td>0.105263</td>\n",
       "      <td>0.315789</td>\n",
       "      <td>0.0</td>\n",
       "      <td>0.0</td>\n",
       "    </tr>\n",
       "    <tr>\n",
       "      <th>2</th>\n",
       "      <td>0.0</td>\n",
       "      <td>0.0</td>\n",
       "      <td>0.000000</td>\n",
       "      <td>0.523810</td>\n",
       "      <td>0.000000</td>\n",
       "      <td>0.000000</td>\n",
       "      <td>0.000000</td>\n",
       "      <td>0.000000</td>\n",
       "      <td>0.000000</td>\n",
       "      <td>0.0</td>\n",
       "      <td>...</td>\n",
       "      <td>0.0</td>\n",
       "      <td>0.0</td>\n",
       "      <td>0.0</td>\n",
       "      <td>0.0</td>\n",
       "      <td>0.0</td>\n",
       "      <td>0.238094</td>\n",
       "      <td>0.000000</td>\n",
       "      <td>0.000000</td>\n",
       "      <td>0.0</td>\n",
       "      <td>0.0</td>\n",
       "    </tr>\n",
       "    <tr>\n",
       "      <th>3</th>\n",
       "      <td>0.0</td>\n",
       "      <td>0.0</td>\n",
       "      <td>0.000000</td>\n",
       "      <td>0.655172</td>\n",
       "      <td>0.103448</td>\n",
       "      <td>0.000000</td>\n",
       "      <td>0.000000</td>\n",
       "      <td>0.000000</td>\n",
       "      <td>0.241379</td>\n",
       "      <td>0.0</td>\n",
       "      <td>...</td>\n",
       "      <td>0.0</td>\n",
       "      <td>0.0</td>\n",
       "      <td>0.0</td>\n",
       "      <td>0.0</td>\n",
       "      <td>0.0</td>\n",
       "      <td>0.000000</td>\n",
       "      <td>0.000000</td>\n",
       "      <td>0.000000</td>\n",
       "      <td>0.0</td>\n",
       "      <td>0.0</td>\n",
       "    </tr>\n",
       "    <tr>\n",
       "      <th>4</th>\n",
       "      <td>0.0</td>\n",
       "      <td>0.0</td>\n",
       "      <td>0.000000</td>\n",
       "      <td>0.600000</td>\n",
       "      <td>0.000000</td>\n",
       "      <td>0.000000</td>\n",
       "      <td>0.000000</td>\n",
       "      <td>0.000000</td>\n",
       "      <td>0.000000</td>\n",
       "      <td>0.0</td>\n",
       "      <td>...</td>\n",
       "      <td>0.0</td>\n",
       "      <td>0.0</td>\n",
       "      <td>0.0</td>\n",
       "      <td>0.0</td>\n",
       "      <td>0.0</td>\n",
       "      <td>0.000000</td>\n",
       "      <td>0.000000</td>\n",
       "      <td>0.000000</td>\n",
       "      <td>0.0</td>\n",
       "      <td>0.0</td>\n",
       "    </tr>\n",
       "  </tbody>\n",
       "</table>\n",
       "<p>5 rows × 65 columns</p>\n",
       "</div>"
      ],
      "text/plain": [
       "    Li   Be         B         O        Na        Mg        Al        Si  \\\n",
       "0  0.0  0.0  0.099699  0.628564  0.000000  0.008412  0.052889  0.180302   \n",
       "1  0.0  0.0  0.000000  0.578947  0.000000  0.000000  0.000000  0.000000   \n",
       "2  0.0  0.0  0.000000  0.523810  0.000000  0.000000  0.000000  0.000000   \n",
       "3  0.0  0.0  0.000000  0.655172  0.103448  0.000000  0.000000  0.000000   \n",
       "4  0.0  0.0  0.000000  0.600000  0.000000  0.000000  0.000000  0.000000   \n",
       "\n",
       "          P    K  ...   Lu   Hf   Ta    W   Hg        Tl        Pb        Bi  \\\n",
       "0  0.000000  0.0  ...  0.0  0.0  0.0  0.0  0.0  0.000000  0.000000  0.000000   \n",
       "1  0.000000  0.0  ...  0.0  0.0  0.0  0.0  0.0  0.000000  0.105263  0.315789   \n",
       "2  0.000000  0.0  ...  0.0  0.0  0.0  0.0  0.0  0.238094  0.000000  0.000000   \n",
       "3  0.241379  0.0  ...  0.0  0.0  0.0  0.0  0.0  0.000000  0.000000  0.000000   \n",
       "4  0.000000  0.0  ...  0.0  0.0  0.0  0.0  0.0  0.000000  0.000000  0.000000   \n",
       "\n",
       "    Th    U  \n",
       "0  0.0  0.0  \n",
       "1  0.0  0.0  \n",
       "2  0.0  0.0  \n",
       "3  0.0  0.0  \n",
       "4  0.0  0.0  \n",
       "\n",
       "[5 rows x 65 columns]"
      ]
     },
     "execution_count": 4,
     "metadata": {},
     "output_type": "execute_result"
    }
   ],
   "source": [
    "X.head()"
   ]
  },
  {
   "cell_type": "code",
   "execution_count": 5,
   "metadata": {
    "colab": {
     "base_uri": "https://localhost:8080/",
     "height": 35
    },
    "colab_type": "code",
    "id": "YqtLQeNWE2t5",
    "outputId": "3d549e2b-7a39-4939-ccc8-b583794c4b7d"
   },
   "outputs": [
    {
     "name": "stdout",
     "output_type": "stream",
     "text": [
      "MinMaxScaler(copy=True, feature_range=(0, 1))\n"
     ]
    }
   ],
   "source": [
    "# #Scaling the dataset\n",
    "scaler_x = MinMaxScaler()\n",
    "print(scaler_x.fit(X))\n",
    "xscale=scaler_x.transform(X)"
   ]
  },
  {
   "cell_type": "code",
   "execution_count": 6,
   "metadata": {
    "colab": {},
    "colab_type": "code",
    "id": "4ex2OrSWE4v2"
   },
   "outputs": [],
   "source": [
    "#Creating custom metric for RRMSE and R2 score\n",
    "def rrmse(y_true, y_pred):\n",
    "  def r2_keras(y_true, y_pred):\n",
    "      SS_res =  kb.sum(kb.square(y_true - y_pred)) \n",
    "      SS_tot = kb.sum(kb.square(y_true - kb.mean(y_true))) \n",
    "      return ( 1 - SS_res/(SS_tot + kb.epsilon()))\n",
    "  return kb.sqrt(1-r2_keras(y_true, y_pred))\n",
    " "
   ]
  },
  {
   "cell_type": "code",
   "execution_count": 7,
   "metadata": {
    "colab": {
     "base_uri": "https://localhost:8080/",
     "height": 35
    },
    "colab_type": "code",
    "id": "_GcbDX8KE7Xb",
    "outputId": "6a22394f-3fc1-4381-b13c-3a58a3531ce6"
   },
   "outputs": [
    {
     "name": "stdout",
     "output_type": "stream",
     "text": [
      "(51000, 65) (51000,)\n"
     ]
    }
   ],
   "source": [
    "print(xscale.shape, y.shape)"
   ]
  },
  {
   "cell_type": "markdown",
   "metadata": {
    "colab_type": "text",
    "id": "92oO3so4EtxX"
   },
   "source": [
    "Building a Baseline Model"
   ]
  },
  {
   "cell_type": "code",
   "execution_count": 8,
   "metadata": {
    "colab": {},
    "colab_type": "code",
    "id": "YQWYa33uFA_1"
   },
   "outputs": [],
   "source": [
    "#Creating the artificial neural network architecture\n",
    "def create_model():\n",
    "  model = Sequential()\n",
    "  model.add(Dense(50, input_dim=65, activation='relu'))\n",
    "  model.add(Dense(20, activation='relu'))\n",
    "  model.add(Dense(1, activation='linear'))\n",
    "  model.summary()\n",
    "  model.compile(loss='mae', optimizer = \"adam\", metrics=[rrmse, 'mse','mae'])\n",
    "  return model"
   ]
  },
  {
   "cell_type": "code",
   "execution_count": 9,
   "metadata": {
    "colab": {
     "base_uri": "https://localhost:8080/",
     "height": 644
    },
    "colab_type": "code",
    "id": "1mDkn9NXFEON",
    "outputId": "4d5724df-f28e-4933-e29c-d20aac125806"
   },
   "outputs": [
    {
     "name": "stdout",
     "output_type": "stream",
     "text": [
      "Model: \"sequential_1\"\n",
      "_________________________________________________________________\n",
      "Layer (type)                 Output Shape              Param #   \n",
      "=================================================================\n",
      "dense_1 (Dense)              (None, 50)                3300      \n",
      "_________________________________________________________________\n",
      "dense_2 (Dense)              (None, 20)                1020      \n",
      "_________________________________________________________________\n",
      "dense_3 (Dense)              (None, 1)                 21        \n",
      "=================================================================\n",
      "Total params: 4,341\n",
      "Trainable params: 4,341\n",
      "Non-trainable params: 0\n",
      "_________________________________________________________________\n",
      "Train on 40800 samples, validate on 10200 samples\n",
      "Epoch 1/10\n",
      "40800/40800 [==============================] - 1s 31us/step - loss: 202.1765 - rrmse: 2.0597 - mse: 109878.3359 - mae: 202.1765 - val_loss: 122.4586 - val_rrmse: 723621.3750 - val_mse: 20494.7812 - val_mae: 122.4586\n",
      "Epoch 2/10\n",
      "40800/40800 [==============================] - 1s 29us/step - loss: 39.0604 - rrmse: 0.5132 - mse: 3125.0715 - mae: 39.0604 - val_loss: 112.1465 - val_rrmse: 668410.7500 - val_mse: 17493.0879 - val_mae: 112.1465\n",
      "Epoch 3/10\n",
      "40800/40800 [==============================] - 1s 27us/step - loss: 38.3369 - rrmse: 0.5086 - mse: 3072.5530 - mae: 38.3369 - val_loss: 111.2946 - val_rrmse: 661781.0000 - val_mse: 17021.1270 - val_mae: 111.2946\n",
      "Epoch 4/10\n",
      "40800/40800 [==============================] - 1s 26us/step - loss: 37.9109 - rrmse: 0.5034 - mse: 3031.0115 - mae: 37.9108 - val_loss: 106.5204 - val_rrmse: 634056.9375 - val_mse: 15824.4326 - val_mae: 106.5204\n",
      "Epoch 5/10\n",
      "40800/40800 [==============================] - 1s 27us/step - loss: 37.5016 - rrmse: 0.5018 - mse: 2989.7922 - mae: 37.5016 - val_loss: 101.3715 - val_rrmse: 613155.2500 - val_mse: 14610.1885 - val_mae: 101.3715\n",
      "Epoch 6/10\n",
      "40800/40800 [==============================] - 1s 29us/step - loss: 37.1539 - rrmse: 0.4965 - mse: 2950.5642 - mae: 37.1540 - val_loss: 99.4677 - val_rrmse: 597790.6250 - val_mse: 14069.6143 - val_mae: 99.4677\n",
      "Epoch 7/10\n",
      "40800/40800 [==============================] - 1s 27us/step - loss: 36.8393 - rrmse: 0.4939 - mse: 2913.8042 - mae: 36.8393 - val_loss: 102.4739 - val_rrmse: 616483.9375 - val_mse: 14625.7070 - val_mae: 102.4739\n",
      "Epoch 8/10\n",
      "40800/40800 [==============================] - 1s 26us/step - loss: 36.4917 - rrmse: 0.4899 - mse: 2874.2983 - mae: 36.4917 - val_loss: 101.8002 - val_rrmse: 611984.3750 - val_mse: 14430.4521 - val_mae: 101.8003\n",
      "Epoch 9/10\n",
      "40800/40800 [==============================] - 1s 26us/step - loss: 36.1811 - rrmse: 0.4873 - mse: 2838.6428 - mae: 36.1811 - val_loss: 97.6382 - val_rrmse: 591771.5625 - val_mse: 13491.2363 - val_mae: 97.6383\n",
      "Epoch 10/10\n",
      "40800/40800 [==============================] - 1s 29us/step - loss: 35.9286 - rrmse: 0.4853 - mse: 2810.3623 - mae: 35.9287 - val_loss: 101.7949 - val_rrmse: 614181.6875 - val_mse: 14270.7627 - val_mae: 101.7949\n"
     ]
    }
   ],
   "source": [
    "model = create_model()\n",
    "num_epochs = 10\n",
    "history = model.fit(xscale, y, epochs=num_epochs,  verbose=1, validation_split=0.2)"
   ]
  },
  {
   "cell_type": "code",
   "execution_count": 10,
   "metadata": {
    "colab": {
     "base_uri": "https://localhost:8080/",
     "height": 313
    },
    "colab_type": "code",
    "id": "8m6sRuaQFGAp",
    "outputId": "5e57da22-248e-4ae7-e21f-528a7fd18125"
   },
   "outputs": [
    {
     "name": "stdout",
     "output_type": "stream",
     "text": [
      "dict_keys(['val_loss', 'val_rrmse', 'val_mse', 'val_mae', 'loss', 'rrmse', 'mse', 'mae'])\n"
     ]
    },
    {
     "data": {
      "image/png": "[encoded data removed]",
      "text/plain": [
       "<Figure size 432x288 with 1 Axes>"
      ]
     },
     "metadata": {
      "needs_background": "light"
     },
     "output_type": "display_data"
    }
   ],
   "source": [
    "print(history.history.keys())\n",
    "plt.plot(history.history['loss'])\n",
    "plt.plot(history.history['val_loss'])\n",
    "plt.title('model loss')\n",
    "plt.ylabel('loss')\n",
    "plt.xlabel('epoch')\n",
    "plt.legend(['train', 'validation'], loc='upper left')\n",
    "plt.show()"
   ]
  },
  {
   "cell_type": "code",
   "execution_count": 11,
   "metadata": {
    "colab": {},
    "colab_type": "code",
    "id": "5v-BztdWFKHA"
   },
   "outputs": [],
   "source": [
    "# training rrmse\n",
    "rrmse_histories = []\n",
    "rrmse_histories.append(history.history['rrmse'])\n",
    "rrmse_history = [np.mean([x[i] for x in rrmse_histories]) for i in range(num_epochs)]"
   ]
  },
  {
   "cell_type": "code",
   "execution_count": 12,
   "metadata": {
    "colab": {},
    "colab_type": "code",
    "id": "UcK65DMjFLJ9"
   },
   "outputs": [],
   "source": [
    "# validation rrmse\n",
    "val_rrmse_histories = []\n",
    "val_rrmse_histories.append(history.history['val_rrmse'])\n",
    "val_rrmse_history = [np.mean([x[i] for x in val_rrmse_histories]) for i in range(num_epochs)]"
   ]
  },
  {
   "cell_type": "code",
   "execution_count": 13,
   "metadata": {
    "colab": {
     "base_uri": "https://localhost:8080/",
     "height": 295
    },
    "colab_type": "code",
    "id": "wcT3KkbfFM4v",
    "outputId": "3fcfdac2-c885-466f-b3d4-aaf54c73926a"
   },
   "outputs": [
    {
     "data": {
      "image/png": "[encoded data removed]",
      "text/plain": [
       "<Figure size 432x288 with 1 Axes>"
      ]
     },
     "metadata": {
      "needs_background": "light"
     },
     "output_type": "display_data"
    }
   ],
   "source": [
    "# plotting validation scores\n",
    "import matplotlib.pyplot as plt\n",
    "plt.plot(range(1,len(rrmse_history) + 1), rrmse_history, 'b', label='Training RRMSE')\n",
    "plt.plot(range(1,len(val_rrmse_history) + 1), val_rrmse_history, 'r', label='Validation RRMSE')\n",
    "plt.title('Validation RRMSE by epoch')\n",
    "plt.xlabel('Epochs')\n",
    "plt.ylabel('RRMSE')\n",
    "plt.legend()\n",
    "plt.show()"
   ]
  },
  {
   "cell_type": "markdown",
   "metadata": {
    "colab_type": "text",
    "id": "s3AYZa0cFOhj"
   },
   "source": [
    "TUNING THE HYPERPARAMETERS IN THE MODEL"
   ]
  },
  {
   "cell_type": "markdown",
   "metadata": {
    "colab_type": "text",
    "id": "MZww7OMAFSr0"
   },
   "source": [
    "**Tuning Batch Size and Epochs**"
   ]
  },
  {
   "cell_type": "code",
   "execution_count": 0,
   "metadata": {
    "colab": {},
    "colab_type": "code",
    "id": "Y1m1NeXsFNVS"
   },
   "outputs": [],
   "source": [
    "def create_model():\n",
    "  model = Sequential()\n",
    "  model.add(Dense(50, input_dim=65, activation='relu'))\n",
    "  model.add(Dense(20, activation='relu'))\n",
    "  model.add(Dense(1, activation='linear'))\n",
    "  model.summary()\n",
    "  model.compile(loss='mae', optimizer = \"adam\", metrics=[rrmse, 'mse','mae'])\n",
    "  return model"
   ]
  },
  {
   "cell_type": "code",
   "execution_count": 0,
   "metadata": {
    "colab": {
     "base_uri": "https://localhost:8080/",
     "height": 800
    },
    "colab_type": "code",
    "id": "Qh-6aq-_FRhC",
    "outputId": "078d72b4-c82f-4920-d1cd-18cedd360faa"
   },
   "outputs": [
    {
     "name": "stdout",
     "output_type": "stream",
     "text": [
      "Model: \"sequential_8\"\n",
      "_________________________________________________________________\n",
      "Layer (type)                 Output Shape              Param #   \n",
      "=================================================================\n",
      "dense_22 (Dense)             (None, 50)                3300      \n",
      "_________________________________________________________________\n",
      "dense_23 (Dense)             (None, 20)                1020      \n",
      "_________________________________________________________________\n",
      "dense_24 (Dense)             (None, 1)                 21        \n",
      "=================================================================\n",
      "Total params: 4,341\n",
      "Trainable params: 4,341\n",
      "Non-trainable params: 0\n",
      "_________________________________________________________________\n",
      "Epoch 1/15\n",
      "51000/51000 [==============================] - 2s 39us/step - loss: 192.7628 - rrmse: 1.4503 - mse: 109627.6953 - mae: 192.7626\n",
      "Epoch 2/15\n",
      "51000/51000 [==============================] - 2s 36us/step - loss: 44.9833 - rrmse: 0.4240 - mse: 4124.4399 - mae: 44.9833\n",
      "Epoch 3/15\n",
      "51000/51000 [==============================] - 2s 37us/step - loss: 43.2698 - rrmse: 0.4124 - mse: 3907.2988 - mae: 43.2698\n",
      "Epoch 4/15\n",
      "51000/51000 [==============================] - 2s 36us/step - loss: 41.8840 - rrmse: 0.4029 - mse: 3752.0957 - mae: 41.8840\n",
      "Epoch 5/15\n",
      "51000/51000 [==============================] - 2s 38us/step - loss: 40.7382 - rrmse: 0.3969 - mse: 3643.6731 - mae: 40.7382\n",
      "Epoch 6/15\n",
      "51000/51000 [==============================] - 2s 38us/step - loss: 39.7628 - rrmse: 0.3917 - mse: 3541.6919 - mae: 39.7628\n",
      "Epoch 7/15\n",
      "51000/51000 [==============================] - 2s 39us/step - loss: 39.0065 - rrmse: 0.3853 - mse: 3453.3528 - mae: 39.0065\n",
      "Epoch 8/15\n",
      "51000/51000 [==============================] - 2s 40us/step - loss: 38.4230 - rrmse: 0.3824 - mse: 3386.6240 - mae: 38.4230\n",
      "Epoch 9/15\n",
      "51000/51000 [==============================] - 2s 39us/step - loss: 37.9867 - rrmse: 0.3785 - mse: 3333.4814 - mae: 37.9867\n",
      "Epoch 10/15\n",
      "51000/51000 [==============================] - 2s 38us/step - loss: 37.6664 - rrmse: 0.3771 - mse: 3289.7629 - mae: 37.6664\n",
      "Epoch 11/15\n",
      "51000/51000 [==============================] - 2s 39us/step - loss: 37.3747 - rrmse: 0.3748 - mse: 3251.6211 - mae: 37.3747\n",
      "Epoch 12/15\n",
      "51000/51000 [==============================] - 2s 39us/step - loss: 37.1137 - rrmse: 0.3710 - mse: 3216.2178 - mae: 37.1136\n",
      "Epoch 13/15\n",
      "51000/51000 [==============================] - 2s 42us/step - loss: 36.9184 - rrmse: 0.3695 - mse: 3192.3389 - mae: 36.9184\n",
      "Epoch 14/15\n",
      "51000/51000 [==============================] - 2s 40us/step - loss: 36.7063 - rrmse: 0.3685 - mse: 3164.2808 - mae: 36.7063\n",
      "Epoch 15/15\n",
      "51000/51000 [==============================] - 2s 41us/step - loss: 36.5509 - rrmse: 0.3673 - mse: 3138.9312 - mae: 36.5509\n"
     ]
    }
   ],
   "source": [
    "model = KerasRegressor(build_fn=create_model, verbose=1)\n",
    "# define the grid search parameters\n",
    "batch_size = [32, 64, 128]\n",
    "epochs= [15,20,50]\n",
    "param_grid = dict(batch_size=batch_size, epochs=epochs)\n",
    "grid = GridSearchCV(estimator=model, param_grid=param_grid, n_jobs=-1, cv=3)\n",
    "grid_result = grid.fit(xscale, y)"
   ]
  },
  {
   "cell_type": "code",
   "execution_count": 0,
   "metadata": {
    "colab": {
     "base_uri": "https://localhost:8080/",
     "height": 191
    },
    "colab_type": "code",
    "id": "s2VuYFxZFXAH",
    "outputId": "22f594af-6d23-4b66-91eb-a26f42e55a2b"
   },
   "outputs": [
    {
     "name": "stdout",
     "output_type": "stream",
     "text": [
      "Best: -77.949805 using {'batch_size': 32, 'epochs': 15}\n",
      "-77.949805 (22.601394) with: {'batch_size': 32, 'epochs': 15}\n",
      "-86.163859 (30.006389) with: {'batch_size': 32, 'epochs': 20}\n",
      "-93.496830 (31.048548) with: {'batch_size': 32, 'epochs': 50}\n",
      "-87.617825 (26.147292) with: {'batch_size': 64, 'epochs': 15}\n",
      "-79.264861 (24.307282) with: {'batch_size': 64, 'epochs': 20}\n",
      "-90.680770 (33.616446) with: {'batch_size': 64, 'epochs': 50}\n",
      "-83.438634 (20.279058) with: {'batch_size': 128, 'epochs': 15}\n",
      "-80.998375 (18.986276) with: {'batch_size': 128, 'epochs': 20}\n",
      "-86.905415 (32.366261) with: {'batch_size': 128, 'epochs': 50}\n"
     ]
    }
   ],
   "source": [
    "# summarize results\n",
    "print(\"Best: %f using %s\" % (grid_result.best_score_, grid_result.best_params_))\n",
    "means = grid_result.cv_results_['mean_test_score']\n",
    "stds = grid_result.cv_results_['std_test_score']\n",
    "params = grid_result.cv_results_['params']\n",
    "for mean, stdev, param in zip(means, stds, params):\n",
    "    print(\"%f (%f) with: %r\" % (mean, stdev, param))"
   ]
  },
  {
   "cell_type": "markdown",
   "metadata": {
    "colab_type": "text",
    "id": "F4i7U2xOFczh"
   },
   "source": [
    "**Tuning the Training Optimization Algorithm**"
   ]
  },
  {
   "cell_type": "code",
   "execution_count": 14,
   "metadata": {
    "colab": {},
    "colab_type": "code",
    "id": "WAjrFTkHFdgT"
   },
   "outputs": [],
   "source": [
    "def create_model(optimizer=\"adam\"):\n",
    "  model = Sequential()\n",
    "  model.add(Dense(50, input_dim=65, activation='relu'))\n",
    "  model.add(Dense(20, activation='relu'))\n",
    "  model.add(Dense(1, activation='linear'))\n",
    "  model.summary()\n",
    "  model.compile(loss='mae', optimizer = optimizer, metrics=[rrmse, 'mse','mae'])\n",
    "  return model\n"
   ]
  },
  {
   "cell_type": "code",
   "execution_count": 15,
   "metadata": {
    "colab": {
     "base_uri": "https://localhost:8080/",
     "height": 260
    },
    "colab_type": "code",
    "id": "abXxug8CFfn8",
    "outputId": "d2523301-04e2-436f-f238-b2a4c163a41d",
    "scrolled": true
   },
   "outputs": [
    {
     "name": "stdout",
     "output_type": "stream",
     "text": [
      "Model: \"sequential_2\"\n",
      "_________________________________________________________________\n",
      "Layer (type)                 Output Shape              Param #   \n",
      "=================================================================\n",
      "dense_4 (Dense)              (None, 50)                3300      \n",
      "_________________________________________________________________\n",
      "dense_5 (Dense)              (None, 20)                1020      \n",
      "_________________________________________________________________\n",
      "dense_6 (Dense)              (None, 1)                 21        \n",
      "=================================================================\n",
      "Total params: 4,341\n",
      "Trainable params: 4,341\n",
      "Non-trainable params: 0\n",
      "_________________________________________________________________\n"
     ]
    }
   ],
   "source": [
    "model = KerasRegressor(build_fn=create_model, epochs=15, batch_size=32, verbose=0)\n",
    "# define the grid search parameters\n",
    "optimizer = ['RMSprop', 'Autograd', 'Adam']\n",
    "param_grid = dict(optimizer=optimizer)\n",
    "grid = GridSearchCV(estimator=model, param_grid=param_grid, n_jobs=-1, cv=3)\n",
    "grid_result = grid.fit(xscale, y)"
   ]
  },
  {
   "cell_type": "code",
   "execution_count": 16,
   "metadata": {
    "colab": {},
    "colab_type": "code",
    "id": "IaNPA3LDFhC1",
    "outputId": "0664432e-d988-4de6-d00d-8d4b0f06b7cf"
   },
   "outputs": [
    {
     "name": "stdout",
     "output_type": "stream",
     "text": [
      "Best: -79.850111 using {'optimizer': 'RMSprop'}\n",
      "-79.850111 (23.262512) with: {'optimizer': 'RMSprop'}\n",
      "nan (nan) with: {'optimizer': 'Autograd'}\n",
      "-80.246104 (22.818104) with: {'optimizer': 'Adam'}\n"
     ]
    }
   ],
   "source": [
    "print(\"Best: %f using %s\" % (grid_result.best_score_, grid_result.best_params_))\n",
    "means = grid_result.cv_results_['mean_test_score']\n",
    "stds = grid_result.cv_results_['std_test_score']\n",
    "params = grid_result.cv_results_['params']\n",
    "for mean, stdev, param in zip(means, stds, params):\n",
    "    print(\"%f (%f) with: %r\" % (mean, stdev, param))"
   ]
  },
  {
   "cell_type": "code",
   "execution_count": 0,
   "metadata": {
    "colab": {},
    "colab_type": "code",
    "id": "ndpps5ceLgiF"
   },
   "outputs": [],
   "source": [
    "from keras.optimizers import RMSprop"
   ]
  },
  {
   "cell_type": "markdown",
   "metadata": {
    "colab_type": "text",
    "id": "fjh3M7x1FjKG"
   },
   "source": [
    "**Tuning the Kernel Initializer**"
   ]
  },
  {
   "cell_type": "code",
   "execution_count": 17,
   "metadata": {
    "colab": {},
    "colab_type": "code",
    "id": "staqbEbbFmbO"
   },
   "outputs": [],
   "source": [
    "def create_model(init_mode1='uniform', init_mode2='uniform'):\n",
    "  model = Sequential()\n",
    "  model.add(Dense(50, input_dim=65, kernel_initializer=init_mode1, activation='relu'))\n",
    "  model.add(Dense(20, kernel_initializer=init_mode2, activation='relu'))\n",
    "  model.add(Dense(1, activation='linear'))\n",
    "  model.summary()\n",
    "  model.compile(loss='mae', optimizer = 'RMSprop', metrics=[rrmse, 'mse','mae'])\n",
    "  return model"
   ]
  },
  {
   "cell_type": "code",
   "execution_count": 18,
   "metadata": {
    "colab": {},
    "colab_type": "code",
    "id": "SgZ4PMikFohP",
    "outputId": "7a007142-a9d8-4f2f-8639-066ca4d583d0"
   },
   "outputs": [
    {
     "name": "stdout",
     "output_type": "stream",
     "text": [
      "Model: \"sequential_3\"\n",
      "_________________________________________________________________\n",
      "Layer (type)                 Output Shape              Param #   \n",
      "=================================================================\n",
      "dense_7 (Dense)              (None, 50)                3300      \n",
      "_________________________________________________________________\n",
      "dense_8 (Dense)              (None, 20)                1020      \n",
      "_________________________________________________________________\n",
      "dense_9 (Dense)              (None, 1)                 21        \n",
      "=================================================================\n",
      "Total params: 4,341\n",
      "Trainable params: 4,341\n",
      "Non-trainable params: 0\n",
      "_________________________________________________________________\n",
      "Epoch 1/32\n",
      "51000/51000 [==============================] - 3s 67us/step - loss: 146.3043 - rrmse: 1.1642 - mse: 72977.6406 - mae: 146.3044\n",
      "Epoch 2/32\n",
      "51000/51000 [==============================] - 3s 59us/step - loss: 46.3531 - rrmse: 0.4432 - mse: 4364.6025 - mae: 46.3531\n",
      "Epoch 3/32\n",
      "51000/51000 [==============================] - 3s 59us/step - loss: 45.9468 - rrmse: 0.4397 - mse: 4283.0269 - mae: 45.9468\n",
      "Epoch 4/32\n",
      "51000/51000 [==============================] - 3s 60us/step - loss: 45.7398 - rrmse: 0.4377 - mse: 4239.2817 - mae: 45.7397\n",
      "Epoch 5/32\n",
      "51000/51000 [==============================] - 3s 60us/step - loss: 45.6340 - rrmse: 0.4370 - mse: 4217.9370 - mae: 45.6340\n",
      "Epoch 6/32\n",
      "51000/51000 [==============================] - 3s 60us/step - loss: 45.5961 - rrmse: 0.4373 - mse: 4212.4893 - mae: 45.5962\n",
      "Epoch 7/32\n",
      "51000/51000 [==============================] - 3s 61us/step - loss: 45.5894 - rrmse: 0.4336 - mse: 4204.1079 - mae: 45.5894\n",
      "Epoch 8/32\n",
      "51000/51000 [==============================] - 3s 60us/step - loss: 45.5650 - rrmse: 0.4364 - mse: 4199.3633 - mae: 45.5650\n",
      "Epoch 9/32\n",
      "51000/51000 [==============================] - 3s 59us/step - loss: 45.5484 - rrmse: 0.4358 - mse: 4204.4849 - mae: 45.5484\n",
      "Epoch 10/32\n",
      "51000/51000 [==============================] - 3s 58us/step - loss: 45.5361 - rrmse: 0.4358 - mse: 4205.8047 - mae: 45.5361\n",
      "Epoch 11/32\n",
      "51000/51000 [==============================] - 3s 57us/step - loss: 45.5342 - rrmse: 0.4340 - mse: 4198.2090 - mae: 45.5342\n",
      "Epoch 12/32\n",
      "51000/51000 [==============================] - 3s 55us/step - loss: 45.5525 - rrmse: 0.4360 - mse: 4201.0132 - mae: 45.5525\n",
      "Epoch 13/32\n",
      "51000/51000 [==============================] - 3s 55us/step - loss: 45.5266 - rrmse: 0.4334 - mse: 4201.6846 - mae: 45.5267\n",
      "Epoch 14/32\n",
      "51000/51000 [==============================] - 3s 54us/step - loss: 45.5469 - rrmse: 0.4361 - mse: 4200.7041 - mae: 45.5469\n",
      "Epoch 15/32\n",
      "51000/51000 [==============================] - 3s 54us/step - loss: 45.5270 - rrmse: 0.4350 - mse: 4196.1567 - mae: 45.5270\n",
      "Epoch 16/32\n",
      "51000/51000 [==============================] - 3s 52us/step - loss: 45.5382 - rrmse: 0.4363 - mse: 4203.2256 - mae: 45.5382\n",
      "Epoch 17/32\n",
      "51000/51000 [==============================] - 3s 51us/step - loss: 45.5423 - rrmse: 0.4357 - mse: 4196.3516 - mae: 45.5424\n",
      "Epoch 18/32\n",
      "51000/51000 [==============================] - 3s 50us/step - loss: 45.5161 - rrmse: 0.4371 - mse: 4196.1538 - mae: 45.5161 0s - loss: 45.6200 - rrmse: 0.4368 - mse: 4225.570\n",
      "Epoch 19/32\n",
      "51000/51000 [==============================] - 3s 50us/step - loss: 45.5395 - rrmse: 0.4363 - mse: 4198.9062 - mae: 45.5395\n",
      "Epoch 20/32\n",
      "51000/51000 [==============================] - 3s 50us/step - loss: 45.5507 - rrmse: 0.4359 - mse: 4201.8345 - mae: 45.5507\n",
      "Epoch 21/32\n",
      "51000/51000 [==============================] - 3s 49us/step - loss: 45.5050 - rrmse: 0.4354 - mse: 4192.4302 - mae: 45.5050\n",
      "Epoch 22/32\n",
      "51000/51000 [==============================] - 3s 49us/step - loss: 45.5140 - rrmse: 0.4343 - mse: 4189.9453 - mae: 45.5140\n",
      "Epoch 23/32\n",
      "51000/51000 [==============================] - 3s 50us/step - loss: 45.5507 - rrmse: 0.4359 - mse: 4198.1489 - mae: 45.5507\n",
      "Epoch 24/32\n",
      "51000/51000 [==============================] - 3s 51us/step - loss: 45.5263 - rrmse: 0.4355 - mse: 4198.7227 - mae: 45.5263\n",
      "Epoch 25/32\n",
      "51000/51000 [==============================] - 3s 52us/step - loss: 45.5206 - rrmse: 0.4362 - mse: 4191.2578 - mae: 45.5206\n",
      "Epoch 26/32\n",
      "51000/51000 [==============================] - 3s 54us/step - loss: 45.5294 - rrmse: 0.4351 - mse: 4202.0488 - mae: 45.5294\n",
      "Epoch 27/32\n",
      "51000/51000 [==============================] - 3s 54us/step - loss: 45.5196 - rrmse: 0.4360 - mse: 4202.1543 - mae: 45.5196\n",
      "Epoch 28/32\n",
      "51000/51000 [==============================] - 3s 55us/step - loss: 45.5185 - rrmse: 0.4346 - mse: 4197.6035 - mae: 45.5186\n",
      "Epoch 29/32\n",
      "51000/51000 [==============================] - 3s 55us/step - loss: 45.5322 - rrmse: 0.4365 - mse: 4198.7305 - mae: 45.5322\n",
      "Epoch 30/32\n",
      "51000/51000 [==============================] - 3s 55us/step - loss: 45.5375 - rrmse: 0.4357 - mse: 4196.0605 - mae: 45.5375\n",
      "Epoch 31/32\n",
      "51000/51000 [==============================] - 3s 54us/step - loss: 45.5119 - rrmse: 0.4357 - mse: 4193.5610 - mae: 45.5119\n",
      "Epoch 32/32\n",
      "51000/51000 [==============================] - 3s 60us/step - loss: 45.5318 - rrmse: 0.4363 - mse: 4200.3252 - mae: 45.5317\n"
     ]
    }
   ],
   "source": [
    "model = KerasRegressor(build_fn=create_model, epochs=15, batch_size=32, verbose=1)\n",
    "# define the grid search parameters\n",
    "init_modes = ['uniform', 'lecun_uniform', 'normal']\n",
    "param_grid = dict(init_mode1=init_modes, init_mode2=init_modes)\n",
    "grid = GridSearchCV(estimator=model, param_grid=param_grid, n_jobs=-1, cv=3)\n",
    "grid_result = grid.fit(xscale, y)"
   ]
  },
  {
   "cell_type": "code",
   "execution_count": 19,
   "metadata": {
    "colab": {},
    "colab_type": "code",
    "id": "CpC7A-VxFrMv",
    "outputId": "015c2d08-a189-4c47-aa48-2d79a99ada5a"
   },
   "outputs": [
    {
     "name": "stdout",
     "output_type": "stream",
     "text": [
      "Best: -79.708837 using {'init_mode1': 'normal', 'init_mode2': 'uniform'}\n",
      "-82.449925 (22.277121) with: {'init_mode1': 'uniform', 'init_mode2': 'uniform'}\n",
      "-87.463553 (24.068770) with: {'init_mode1': 'uniform', 'init_mode2': 'lecun_uniform'}\n",
      "-82.424038 (27.998880) with: {'init_mode1': 'uniform', 'init_mode2': 'normal'}\n",
      "-85.531353 (20.629139) with: {'init_mode1': 'lecun_uniform', 'init_mode2': 'uniform'}\n",
      "-84.616120 (20.196038) with: {'init_mode1': 'lecun_uniform', 'init_mode2': 'lecun_uniform'}\n",
      "-82.241294 (19.155503) with: {'init_mode1': 'lecun_uniform', 'init_mode2': 'normal'}\n",
      "-79.708837 (21.175383) with: {'init_mode1': 'normal', 'init_mode2': 'uniform'}\n",
      "-79.768184 (26.042497) with: {'init_mode1': 'normal', 'init_mode2': 'lecun_uniform'}\n",
      "-89.492335 (29.537884) with: {'init_mode1': 'normal', 'init_mode2': 'normal'}\n"
     ]
    }
   ],
   "source": [
    "print(\"Best: %f using %s\" % (grid_result.best_score_, grid_result.best_params_))\n",
    "means = grid_result.cv_results_['mean_test_score']\n",
    "stds = grid_result.cv_results_['std_test_score']\n",
    "params = grid_result.cv_results_['params']\n",
    "for mean, stdev, param in zip(means, stds, params):\n",
    "    print(\"%f (%f) with: %r\" % (mean, stdev, param))"
   ]
  },
  {
   "cell_type": "markdown",
   "metadata": {
    "colab_type": "text",
    "id": "INHNIYopFtoD"
   },
   "source": [
    "**Tuning Neuron Activation Function**"
   ]
  },
  {
   "cell_type": "code",
   "execution_count": 23,
   "metadata": {
    "colab": {},
    "colab_type": "code",
    "id": "ZLEzLuL2Ft9c"
   },
   "outputs": [],
   "source": [
    "def create_model(activation1='relu',activation2='relu',activation3='relu'):\n",
    "  model = Sequential()\n",
    "  model.add(Dense(50, input_dim=65, kernel_initializer='normal', activation=activation1))\n",
    "  model.add(Dense(20, kernel_initializer='uniform', activation=activation2))\n",
    "  model.add(Dense(1, activation=activation3))\n",
    "  model.summary()\n",
    "  model.compile(loss='mae', optimizer = 'RMSprop', metrics=[rrmse, 'mse','mae'])\n",
    "  return model"
   ]
  },
  {
   "cell_type": "code",
   "execution_count": 24,
   "metadata": {
    "colab": {},
    "colab_type": "code",
    "id": "RlJL3WijGF0T",
    "outputId": "f3569dd7-d4c7-44ae-fa2e-39f1abd5323b"
   },
   "outputs": [
    {
     "name": "stdout",
     "output_type": "stream",
     "text": [
      "Model: \"sequential_4\"\n",
      "_________________________________________________________________\n",
      "Layer (type)                 Output Shape              Param #   \n",
      "=================================================================\n",
      "dense_10 (Dense)             (None, 50)                3300      \n",
      "_________________________________________________________________\n",
      "dense_11 (Dense)             (None, 20)                1020      \n",
      "_________________________________________________________________\n",
      "dense_12 (Dense)             (None, 1)                 21        \n",
      "=================================================================\n",
      "Total params: 4,341\n",
      "Trainable params: 4,341\n",
      "Non-trainable params: 0\n",
      "_________________________________________________________________\n",
      "Epoch 1/15\n",
      "51000/51000 [==============================] - 2s 43us/step - loss: 225.0848 - rrmse: 1.6659 - mse: 128924.3828 - mae: 225.0850\n",
      "Epoch 2/15\n",
      "51000/51000 [==============================] - 2s 37us/step - loss: 46.4804 - rrmse: 0.4378 - mse: 4372.3101 - mae: 46.4804\n",
      "Epoch 3/15\n",
      "51000/51000 [==============================] - 2s 35us/step - loss: 45.7347 - rrmse: 0.4315 - mse: 4246.2520 - mae: 45.7347\n",
      "Epoch 4/15\n",
      "51000/51000 [==============================] - 2s 35us/step - loss: 45.1167 - rrmse: 0.4254 - mse: 4145.0132 - mae: 45.1167\n",
      "Epoch 5/15\n",
      "51000/51000 [==============================] - 2s 34us/step - loss: 44.4339 - rrmse: 0.4196 - mse: 4046.2764 - mae: 44.4339\n",
      "Epoch 6/15\n",
      "51000/51000 [==============================] - 2s 33us/step - loss: 43.6645 - rrmse: 0.4134 - mse: 3940.0032 - mae: 43.6644\n",
      "Epoch 7/15\n",
      "51000/51000 [==============================] - 2s 36us/step - loss: 42.9873 - rrmse: 0.4111 - mse: 3865.6079 - mae: 42.9873\n",
      "Epoch 8/15\n",
      "51000/51000 [==============================] - 2s 33us/step - loss: 42.3196 - rrmse: 0.4057 - mse: 3781.9944 - mae: 42.3196\n",
      "Epoch 9/15\n",
      "51000/51000 [==============================] - 2s 33us/step - loss: 41.7928 - rrmse: 0.4028 - mse: 3732.9841 - mae: 41.7927\n",
      "Epoch 10/15\n",
      "51000/51000 [==============================] - 2s 33us/step - loss: 41.3406 - rrmse: 0.4004 - mse: 3678.3206 - mae: 41.3406\n",
      "Epoch 11/15\n",
      "51000/51000 [==============================] - 2s 33us/step - loss: 41.0055 - rrmse: 0.3982 - mse: 3654.8508 - mae: 41.0055 1s - loss:\n",
      "Epoch 12/15\n",
      "51000/51000 [==============================] - 2s 33us/step - loss: 40.7722 - rrmse: 0.3975 - mse: 3631.3315 - mae: 40.7723\n",
      "Epoch 13/15\n",
      "51000/51000 [==============================] - 2s 31us/step - loss: 40.5631 - rrmse: 0.3953 - mse: 3605.5452 - mae: 40.5631\n",
      "Epoch 14/15\n",
      "51000/51000 [==============================] - 2s 31us/step - loss: 40.4304 - rrmse: 0.3945 - mse: 3589.1829 - mae: 40.4304\n",
      "Epoch 15/15\n",
      "51000/51000 [==============================] - 2s 31us/step - loss: 40.2905 - rrmse: 0.3944 - mse: 3578.2654 - mae: 40.2906\n"
     ]
    }
   ],
   "source": [
    "model = KerasRegressor(build_fn=create_model, epochs=15, batch_size=32, verbose=1)\n",
    "# define the grid search parameters\n",
    "activation = ['relu', 'tanh', 'linear']\n",
    "param_grid = dict(activation1=activation,activation2=activation,activation3=activation)\n",
    "grid = GridSearchCV(estimator=model, param_grid=param_grid, n_jobs=-1, cv=3)\n",
    "grid_result = grid.fit(xscale, y)"
   ]
  },
  {
   "cell_type": "code",
   "execution_count": 25,
   "metadata": {
    "colab": {},
    "colab_type": "code",
    "id": "scK0uzawG5tr",
    "outputId": "1f63bae8-4cfb-49fb-82cc-757e50e83b6d",
    "scrolled": true
   },
   "outputs": [
    {
     "name": "stdout",
     "output_type": "stream",
     "text": [
      "Best: -79.326309 using {'activation1': 'relu', 'activation2': 'linear', 'activation3': 'relu'}\n",
      "-83.955538 (19.843343) with: {'activation1': 'relu', 'activation2': 'relu', 'activation3': 'relu'}\n",
      "-766.648502 (136.384508) with: {'activation1': 'relu', 'activation2': 'relu', 'activation3': 'tanh'}\n",
      "-80.542652 (23.422634) with: {'activation1': 'relu', 'activation2': 'relu', 'activation3': 'linear'}\n",
      "-426.831412 (136.566496) with: {'activation1': 'relu', 'activation2': 'tanh', 'activation3': 'relu'}\n",
      "-766.648502 (136.384508) with: {'activation1': 'relu', 'activation2': 'tanh', 'activation3': 'tanh'}\n",
      "-427.069940 (136.456068) with: {'activation1': 'relu', 'activation2': 'tanh', 'activation3': 'linear'}\n",
      "-79.326309 (22.468392) with: {'activation1': 'relu', 'activation2': 'linear', 'activation3': 'relu'}\n",
      "-766.648502 (136.384508) with: {'activation1': 'relu', 'activation2': 'linear', 'activation3': 'tanh'}\n",
      "-82.865247 (20.172590) with: {'activation1': 'relu', 'activation2': 'linear', 'activation3': 'linear'}\n",
      "-89.004806 (29.538480) with: {'activation1': 'tanh', 'activation2': 'relu', 'activation3': 'relu'}\n",
      "-766.648502 (136.384508) with: {'activation1': 'tanh', 'activation2': 'relu', 'activation3': 'tanh'}\n",
      "-90.736961 (29.313223) with: {'activation1': 'tanh', 'activation2': 'relu', 'activation3': 'linear'}\n",
      "-426.718691 (135.566069) with: {'activation1': 'tanh', 'activation2': 'tanh', 'activation3': 'relu'}\n",
      "-766.648502 (136.384508) with: {'activation1': 'tanh', 'activation2': 'tanh', 'activation3': 'tanh'}\n",
      "-426.692995 (136.834996) with: {'activation1': 'tanh', 'activation2': 'tanh', 'activation3': 'linear'}\n",
      "-91.738194 (29.757789) with: {'activation1': 'tanh', 'activation2': 'linear', 'activation3': 'relu'}\n",
      "-766.648502 (136.384508) with: {'activation1': 'tanh', 'activation2': 'linear', 'activation3': 'tanh'}\n",
      "-87.163176 (26.279329) with: {'activation1': 'tanh', 'activation2': 'linear', 'activation3': 'linear'}\n",
      "-82.786541 (21.151445) with: {'activation1': 'linear', 'activation2': 'relu', 'activation3': 'relu'}\n",
      "-766.648502 (136.384508) with: {'activation1': 'linear', 'activation2': 'relu', 'activation3': 'tanh'}\n",
      "-81.110373 (18.568383) with: {'activation1': 'linear', 'activation2': 'relu', 'activation3': 'linear'}\n",
      "-427.534956 (136.202262) with: {'activation1': 'linear', 'activation2': 'tanh', 'activation3': 'relu'}\n",
      "-766.648502 (136.384508) with: {'activation1': 'linear', 'activation2': 'tanh', 'activation3': 'tanh'}\n",
      "-426.746444 (136.462900) with: {'activation1': 'linear', 'activation2': 'tanh', 'activation3': 'linear'}\n",
      "-83.736428 (18.938992) with: {'activation1': 'linear', 'activation2': 'linear', 'activation3': 'relu'}\n",
      "-766.648502 (136.384508) with: {'activation1': 'linear', 'activation2': 'linear', 'activation3': 'tanh'}\n",
      "-81.107245 (19.817926) with: {'activation1': 'linear', 'activation2': 'linear', 'activation3': 'linear'}\n"
     ]
    }
   ],
   "source": [
    "print(\"Best: %f using %s\" % (grid_result.best_score_, grid_result.best_params_))\n",
    "means = grid_result.cv_results_['mean_test_score']\n",
    "stds = grid_result.cv_results_['std_test_score']\n",
    "params = grid_result.cv_results_['params']\n",
    "for mean, stdev, param in zip(means, stds, params):\n",
    "    print(\"%f (%f) with: %r\" % (mean, stdev, param))"
   ]
  },
  {
   "cell_type": "markdown",
   "metadata": {
    "colab_type": "text",
    "id": "R4NGaxX4HBZH"
   },
   "source": [
    "**Tuning Dropout Regularization**"
   ]
  },
  {
   "cell_type": "code",
   "execution_count": 29,
   "metadata": {
    "colab": {},
    "colab_type": "code",
    "id": "V4Ipsi59HERv"
   },
   "outputs": [],
   "source": [
    "def create_model(dropout_rate=0.0):\n",
    "  model = Sequential()\n",
    "  model.add(Dense(50, input_dim=65, kernel_initializer='normal', activation='relu'))\n",
    "  model.add(Dense(20, kernel_initializer='uniform' ,activation='linear'))\n",
    "  model.add(Dropout(dropout_rate))\n",
    "  model.add(Dense(1, activation='relu'))\n",
    "  model.summary()\n",
    "  model.compile(loss='mae', optimizer = 'RMSprop', metrics=[rrmse, 'mse','mae'])\n",
    "  return model"
   ]
  },
  {
   "cell_type": "code",
   "execution_count": 30,
   "metadata": {
    "colab": {},
    "colab_type": "code",
    "id": "XXR7iLDaHUA3",
    "outputId": "e5be04bf-1431-4442-c1a2-23342342776f"
   },
   "outputs": [
    {
     "name": "stdout",
     "output_type": "stream",
     "text": [
      "Model: \"sequential_6\"\n",
      "_________________________________________________________________\n",
      "Layer (type)                 Output Shape              Param #   \n",
      "=================================================================\n",
      "dense_16 (Dense)             (None, 50)                3300      \n",
      "_________________________________________________________________\n",
      "dense_17 (Dense)             (None, 20)                1020      \n",
      "_________________________________________________________________\n",
      "dropout_2 (Dropout)          (None, 20)                0         \n",
      "_________________________________________________________________\n",
      "dense_18 (Dense)             (None, 1)                 21        \n",
      "=================================================================\n",
      "Total params: 4,341\n",
      "Trainable params: 4,341\n",
      "Non-trainable params: 0\n",
      "_________________________________________________________________\n",
      "Epoch 1/15\n",
      "51000/51000 [==============================] - 2s 39us/step - loss: 226.5854 - rrmse: 1.6781 - mse: 130504.3516 - mae: 226.5852\n",
      "Epoch 2/15\n",
      "51000/51000 [==============================] - 2s 32us/step - loss: 46.4945 - rrmse: 0.4374 - mse: 4372.3657 - mae: 46.4945\n",
      "Epoch 3/15\n",
      "51000/51000 [==============================] - 2s 31us/step - loss: 45.8731 - rrmse: 0.4313 - mse: 4264.4487 - mae: 45.8731\n",
      "Epoch 4/15\n",
      "51000/51000 [==============================] - 1s 29us/step - loss: 45.6583 - rrmse: 0.4290 - mse: 4224.0928 - mae: 45.6583\n",
      "Epoch 5/15\n",
      "51000/51000 [==============================] - 1s 28us/step - loss: 45.5837 - rrmse: 0.4285 - mse: 4199.8198 - mae: 45.5838\n",
      "Epoch 6/15\n",
      "51000/51000 [==============================] - 2s 31us/step - loss: 45.4998 - rrmse: 0.4280 - mse: 4191.3247 - mae: 45.4998\n",
      "Epoch 7/15\n",
      "51000/51000 [==============================] - 2s 30us/step - loss: 45.4843 - rrmse: 0.4271 - mse: 4187.2920 - mae: 45.4843\n",
      "Epoch 8/15\n",
      "51000/51000 [==============================] - 1s 29us/step - loss: 45.4489 - rrmse: 0.4276 - mse: 4183.1646 - mae: 45.4489\n",
      "Epoch 9/15\n",
      "51000/51000 [==============================] - 2s 30us/step - loss: 45.4686 - rrmse: 0.4269 - mse: 4180.0547 - mae: 45.4686\n",
      "Epoch 10/15\n",
      "51000/51000 [==============================] - 1s 29us/step - loss: 45.4532 - rrmse: 0.4276 - mse: 4185.7651 - mae: 45.4532\n",
      "Epoch 11/15\n",
      "51000/51000 [==============================] - 1s 29us/step - loss: 45.4337 - rrmse: 0.4271 - mse: 4181.9668 - mae: 45.4337\n",
      "Epoch 12/15\n",
      "51000/51000 [==============================] - 1s 28us/step - loss: 45.4242 - rrmse: 0.4271 - mse: 4175.9258 - mae: 45.4241\n",
      "Epoch 13/15\n",
      "51000/51000 [==============================] - 1s 27us/step - loss: 45.4350 - rrmse: 0.4283 - mse: 4179.7544 - mae: 45.4350\n",
      "Epoch 14/15\n",
      "51000/51000 [==============================] - 1s 26us/step - loss: 45.4578 - rrmse: 0.4270 - mse: 4185.2983 - mae: 45.4578\n",
      "Epoch 15/15\n",
      "51000/51000 [==============================] - 1s 26us/step - loss: 45.4204 - rrmse: 0.4284 - mse: 4181.9043 - mae: 45.4204\n"
     ]
    }
   ],
   "source": [
    "model = KerasRegressor(build_fn=create_model, epochs=15, batch_size=32, verbose=1)\n",
    "# define the grid search parameters\n",
    "dropout_rate = [0.0, 0.1, 0.2, 0.3, 0.4, 0.5, 0.6, 0.7, 0.8, 0.9]\n",
    "param_grid = dict(dropout_rate=dropout_rate)\n",
    "grid = GridSearchCV(estimator=model, param_grid=param_grid, n_jobs=-1, cv=3)\n",
    "grid_result = grid.fit(xscale, y)"
   ]
  },
  {
   "cell_type": "code",
   "execution_count": 31,
   "metadata": {
    "colab": {},
    "colab_type": "code",
    "id": "9ahIxSx-HWcb",
    "outputId": "09d47aeb-7bd8-4ced-9ce4-55e17faef798"
   },
   "outputs": [
    {
     "name": "stdout",
     "output_type": "stream",
     "text": [
      "Best: -80.480936 using {'dropout_rate': 0.0}\n",
      "-80.480936 (18.320726) with: {'dropout_rate': 0.0}\n",
      "-83.928671 (21.294574) with: {'dropout_rate': 0.1}\n",
      "-86.812415 (26.397145) with: {'dropout_rate': 0.2}\n",
      "-93.441405 (31.593513) with: {'dropout_rate': 0.3}\n",
      "-94.477625 (42.009005) with: {'dropout_rate': 0.4}\n",
      "-94.637713 (36.309507) with: {'dropout_rate': 0.5}\n",
      "-99.000916 (44.238358) with: {'dropout_rate': 0.6}\n",
      "-110.651466 (57.943263) with: {'dropout_rate': 0.7}\n",
      "-139.983021 (74.856672) with: {'dropout_rate': 0.8}\n",
      "-231.662012 (98.954121) with: {'dropout_rate': 0.9}\n"
     ]
    }
   ],
   "source": [
    "print(\"Best: %f using %s\" % (grid_result.best_score_, grid_result.best_params_))\n",
    "means = grid_result.cv_results_['mean_test_score']\n",
    "stds = grid_result.cv_results_['std_test_score']\n",
    "params = grid_result.cv_results_['params']\n",
    "for mean, stdev, param in zip(means, stds, params):\n",
    "    print(\"%f (%f) with: %r\" % (mean, stdev, param))"
   ]
  },
  {
   "cell_type": "markdown",
   "metadata": {
    "colab_type": "text",
    "id": "8OhCE3QFHYYV"
   },
   "source": [
    "**Tuning Number of Neurons in the Hidden Layer**"
   ]
  },
  {
   "cell_type": "code",
   "execution_count": 32,
   "metadata": {
    "colab": {},
    "colab_type": "code",
    "id": "koKVNGMIHg8T"
   },
   "outputs": [],
   "source": [
    "def create_model(neuron1=10, neuron2= 10):\n",
    "  model = Sequential()\n",
    "  model.add(Dense(neuron1, input_dim=65, kernel_initializer='normal', activation='relu'))\n",
    "  model.add(Dense(neuron2, kernel_initializer='uniform' ,activation='linear'))\n",
    "  model.add(Dropout(0.0))\n",
    "  model.add(Dense(1, activation='relu'))\n",
    "  model.summary()\n",
    "  model.compile(loss='mae', optimizer = 'RMSprop', metrics=[rrmse, 'mse','mae'])\n",
    "  return model"
   ]
  },
  {
   "cell_type": "code",
   "execution_count": 33,
   "metadata": {
    "colab": {},
    "colab_type": "code",
    "id": "kOulS6vfHltE",
    "outputId": "6b3d7dc4-a209-4697-bf5f-fb1616f7626a"
   },
   "outputs": [
    {
     "name": "stdout",
     "output_type": "stream",
     "text": [
      "Model: \"sequential_7\"\n",
      "_________________________________________________________________\n",
      "Layer (type)                 Output Shape              Param #   \n",
      "=================================================================\n",
      "dense_19 (Dense)             (None, 32)                2112      \n",
      "_________________________________________________________________\n",
      "dense_20 (Dense)             (None, 50)                1650      \n",
      "_________________________________________________________________\n",
      "dropout_3 (Dropout)          (None, 50)                0         \n",
      "_________________________________________________________________\n",
      "dense_21 (Dense)             (None, 1)                 51        \n",
      "=================================================================\n",
      "Total params: 3,813\n",
      "Trainable params: 3,813\n",
      "Non-trainable params: 0\n",
      "_________________________________________________________________\n",
      "Epoch 1/15\n",
      "51000/51000 [==============================] - 2s 42us/step - loss: 201.0778 - rrmse: 1.5028 - mse: 112102.3672 - mae: 201.0779\n",
      "Epoch 2/15\n",
      "51000/51000 [==============================] - 2s 36us/step - loss: 46.3427 - rrmse: 0.4364 - mse: 4344.3057 - mae: 46.3427\n",
      "Epoch 3/15\n",
      "51000/51000 [==============================] - 2s 34us/step - loss: 45.8417 - rrmse: 0.4307 - mse: 4256.2954 - mae: 45.8417\n",
      "Epoch 4/15\n",
      "51000/51000 [==============================] - 2s 33us/step - loss: 45.6397 - rrmse: 0.4288 - mse: 4217.8945 - mae: 45.6397\n",
      "Epoch 5/15\n",
      "51000/51000 [==============================] - 2s 32us/step - loss: 45.5534 - rrmse: 0.4283 - mse: 4190.2290 - mae: 45.5534\n",
      "Epoch 6/15\n",
      "51000/51000 [==============================] - 2s 31us/step - loss: 45.5058 - rrmse: 0.4287 - mse: 4187.8848 - mae: 45.5059\n",
      "Epoch 7/15\n",
      "51000/51000 [==============================] - 2s 30us/step - loss: 45.5102 - rrmse: 0.4272 - mse: 4188.7251 - mae: 45.5102\n",
      "Epoch 8/15\n",
      "51000/51000 [==============================] - 2s 32us/step - loss: 45.4806 - rrmse: 0.4282 - mse: 4185.8003 - mae: 45.4806\n",
      "Epoch 9/15\n",
      "51000/51000 [==============================] - 2s 31us/step - loss: 45.4869 - rrmse: 0.4274 - mse: 4182.9004 - mae: 45.4869\n",
      "Epoch 10/15\n",
      "51000/51000 [==============================] - 2s 30us/step - loss: 45.4384 - rrmse: 0.4279 - mse: 4177.7285 - mae: 45.4384\n",
      "Epoch 11/15\n",
      "51000/51000 [==============================] - 2s 30us/step - loss: 45.4657 - rrmse: 0.4285 - mse: 4184.2505 - mae: 45.4656\n",
      "Epoch 12/15\n",
      "51000/51000 [==============================] - 2s 30us/step - loss: 45.4795 - rrmse: 0.4270 - mse: 4188.7393 - mae: 45.4795 0s - loss: 45.8757 - rrmse: 0.4290\n",
      "Epoch 13/15\n",
      "51000/51000 [==============================] - 2s 30us/step - loss: 45.4672 - rrmse: 0.4282 - mse: 4189.4380 - mae: 45.4672\n",
      "Epoch 14/15\n",
      "51000/51000 [==============================] - 2s 31us/step - loss: 45.4837 - rrmse: 0.4288 - mse: 4192.6621 - mae: 45.4837\n",
      "Epoch 15/15\n",
      "51000/51000 [==============================] - 2s 30us/step - loss: 45.4644 - rrmse: 0.4276 - mse: 4184.9849 - mae: 45.4644\n"
     ]
    }
   ],
   "source": [
    "model = KerasRegressor(build_fn=create_model, epochs=15, batch_size=32, verbose=1)\n",
    "# define the grid search parameters\n",
    "neurons = [10, 20, 32, 50, 64]\n",
    "param_grid = dict(neuron1=neurons, neuron2=neurons)\n",
    "grid = GridSearchCV(estimator=model, param_grid=param_grid, n_jobs=-1, cv=3)\n",
    "grid_result = grid.fit(xscale, y)"
   ]
  },
  {
   "cell_type": "code",
   "execution_count": 34,
   "metadata": {
    "colab": {},
    "colab_type": "code",
    "id": "iF7IFN8HIah6",
    "outputId": "b074ea84-fbe1-4e34-a8b5-dee80436bb86",
    "scrolled": true
   },
   "outputs": [
    {
     "name": "stdout",
     "output_type": "stream",
     "text": [
      "Best: -77.561942 using {'neuron1': 32, 'neuron2': 50}\n",
      "-80.575074 (17.405341) with: {'neuron1': 10, 'neuron2': 10}\n",
      "-82.044027 (19.354526) with: {'neuron1': 10, 'neuron2': 20}\n",
      "-83.910710 (18.894650) with: {'neuron1': 10, 'neuron2': 32}\n",
      "-83.330257 (19.857901) with: {'neuron1': 10, 'neuron2': 50}\n",
      "-84.390241 (21.183205) with: {'neuron1': 10, 'neuron2': 64}\n",
      "-82.621102 (19.303914) with: {'neuron1': 20, 'neuron2': 10}\n",
      "-84.978463 (21.773403) with: {'neuron1': 20, 'neuron2': 20}\n",
      "-81.359494 (17.850242) with: {'neuron1': 20, 'neuron2': 32}\n",
      "-83.059867 (19.478843) with: {'neuron1': 20, 'neuron2': 50}\n",
      "-79.807351 (17.493923) with: {'neuron1': 20, 'neuron2': 64}\n",
      "-83.480678 (20.593010) with: {'neuron1': 32, 'neuron2': 10}\n",
      "-82.700835 (22.742201) with: {'neuron1': 32, 'neuron2': 20}\n",
      "-84.339782 (22.138093) with: {'neuron1': 32, 'neuron2': 32}\n",
      "-77.561942 (17.208225) with: {'neuron1': 32, 'neuron2': 50}\n",
      "-81.349216 (20.663819) with: {'neuron1': 32, 'neuron2': 64}\n",
      "-80.972358 (20.521987) with: {'neuron1': 50, 'neuron2': 10}\n",
      "-83.314145 (19.347822) with: {'neuron1': 50, 'neuron2': 20}\n",
      "-80.312718 (18.132649) with: {'neuron1': 50, 'neuron2': 32}\n",
      "-79.274209 (17.097792) with: {'neuron1': 50, 'neuron2': 50}\n",
      "-84.396942 (20.355664) with: {'neuron1': 50, 'neuron2': 64}\n",
      "-78.383184 (20.348193) with: {'neuron1': 64, 'neuron2': 10}\n",
      "-78.382535 (16.889924) with: {'neuron1': 64, 'neuron2': 20}\n",
      "-82.407109 (19.380024) with: {'neuron1': 64, 'neuron2': 32}\n",
      "-83.344695 (19.210572) with: {'neuron1': 64, 'neuron2': 50}\n",
      "-86.439904 (22.312606) with: {'neuron1': 64, 'neuron2': 64}\n"
     ]
    }
   ],
   "source": [
    "print(\"Best: %f using %s\" % (grid_result.best_score_, grid_result.best_params_))\n",
    "means = grid_result.cv_results_['mean_test_score']\n",
    "stds = grid_result.cv_results_['std_test_score']\n",
    "params = grid_result.cv_results_['params']\n",
    "for mean, stdev, param in zip(means, stds, params):\n",
    "    print(\"%f (%f) with: %r\" % (mean, stdev, param))"
   ]
  },
  {
   "cell_type": "code",
   "execution_count": 0,
   "metadata": {
    "colab": {},
    "colab_type": "code",
    "id": "SFBtwDEpRK_K"
   },
   "outputs": [],
   "source": []
  }
 ],
 "metadata": {
  "colab": {
   "collapsed_sections": [],
   "name": "GlassTransitionTemperature_ANN.ipynb",
   "provenance": []
  },
  "kernelspec": {
   "display_name": "Python 3",
   "language": "python",
   "name": "python3"
  },
  "language_info": {
   "codemirror_mode": {
    "name": "ipython",
    "version": 3
   },
   "file_extension": ".py",
   "mimetype": "text/x-python",
   "name": "python",
   "nbconvert_exporter": "python",
   "pygments_lexer": "ipython3",
   "version": "3.7.4"
  }
 },
 "nbformat": 4,
 "nbformat_minor": 1
}
