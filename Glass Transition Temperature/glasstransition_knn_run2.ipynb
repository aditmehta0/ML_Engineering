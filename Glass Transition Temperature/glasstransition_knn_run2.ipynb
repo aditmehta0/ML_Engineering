{
 "cells": [
  {
   "cell_type": "code",
   "execution_count": 1,
   "metadata": {},
   "outputs": [],
   "source": [
    "import numpy as np\n",
    "import pandas as pd\n",
    "import matplotlib.pyplot as plt\n",
    "import seaborn as sns\n",
    "%matplotlib inline"
   ]
  },
  {
   "cell_type": "code",
   "execution_count": 2,
   "metadata": {},
   "outputs": [],
   "source": [
    "df=pd.read_csv(\"glass_data.csv\")"
   ]
  },
  {
   "cell_type": "code",
   "execution_count": 3,
   "metadata": {},
   "outputs": [
    {
     "data": {
      "text/html": [
       "<div>\n",
       "<style scoped>\n",
       "    .dataframe tbody tr th:only-of-type {\n",
       "        vertical-align: middle;\n",
       "    }\n",
       "\n",
       "    .dataframe tbody tr th {\n",
       "        vertical-align: top;\n",
       "    }\n",
       "\n",
       "    .dataframe thead th {\n",
       "        text-align: right;\n",
       "    }\n",
       "</style>\n",
       "<table border=\"1\" class=\"dataframe\">\n",
       "  <thead>\n",
       "    <tr style=\"text-align: right;\">\n",
       "      <th></th>\n",
       "      <th>ID</th>\n",
       "      <th>Li</th>\n",
       "      <th>Be</th>\n",
       "      <th>B</th>\n",
       "      <th>O</th>\n",
       "      <th>Na</th>\n",
       "      <th>Mg</th>\n",
       "      <th>Al</th>\n",
       "      <th>Si</th>\n",
       "      <th>P</th>\n",
       "      <th>...</th>\n",
       "      <th>Hf</th>\n",
       "      <th>Ta</th>\n",
       "      <th>W</th>\n",
       "      <th>Hg</th>\n",
       "      <th>Tl</th>\n",
       "      <th>Pb</th>\n",
       "      <th>Bi</th>\n",
       "      <th>Th</th>\n",
       "      <th>U</th>\n",
       "      <th>Tg</th>\n",
       "    </tr>\n",
       "  </thead>\n",
       "  <tbody>\n",
       "    <tr>\n",
       "      <td>0</td>\n",
       "      <td>478474_40951</td>\n",
       "      <td>0.0</td>\n",
       "      <td>0.0</td>\n",
       "      <td>0.099699</td>\n",
       "      <td>0.628564</td>\n",
       "      <td>0.000000</td>\n",
       "      <td>0.008412</td>\n",
       "      <td>0.052889</td>\n",
       "      <td>0.180302</td>\n",
       "      <td>0.000000</td>\n",
       "      <td>...</td>\n",
       "      <td>0.0</td>\n",
       "      <td>0.0</td>\n",
       "      <td>0.0</td>\n",
       "      <td>0.0</td>\n",
       "      <td>0.000000</td>\n",
       "      <td>0.000000</td>\n",
       "      <td>0.000000</td>\n",
       "      <td>0.0</td>\n",
       "      <td>0.0</td>\n",
       "      <td>341.65</td>\n",
       "    </tr>\n",
       "    <tr>\n",
       "      <td>1</td>\n",
       "      <td>308661_26527</td>\n",
       "      <td>0.0</td>\n",
       "      <td>0.0</td>\n",
       "      <td>0.000000</td>\n",
       "      <td>0.578947</td>\n",
       "      <td>0.000000</td>\n",
       "      <td>0.000000</td>\n",
       "      <td>0.000000</td>\n",
       "      <td>0.000000</td>\n",
       "      <td>0.000000</td>\n",
       "      <td>...</td>\n",
       "      <td>0.0</td>\n",
       "      <td>0.0</td>\n",
       "      <td>0.0</td>\n",
       "      <td>0.0</td>\n",
       "      <td>0.000000</td>\n",
       "      <td>0.105263</td>\n",
       "      <td>0.315789</td>\n",
       "      <td>0.0</td>\n",
       "      <td>0.0</td>\n",
       "      <td>348.15</td>\n",
       "    </tr>\n",
       "    <tr>\n",
       "      <td>2</td>\n",
       "      <td>448275_37908</td>\n",
       "      <td>0.0</td>\n",
       "      <td>0.0</td>\n",
       "      <td>0.000000</td>\n",
       "      <td>0.523810</td>\n",
       "      <td>0.000000</td>\n",
       "      <td>0.000000</td>\n",
       "      <td>0.000000</td>\n",
       "      <td>0.000000</td>\n",
       "      <td>0.000000</td>\n",
       "      <td>...</td>\n",
       "      <td>0.0</td>\n",
       "      <td>0.0</td>\n",
       "      <td>0.0</td>\n",
       "      <td>0.0</td>\n",
       "      <td>0.238094</td>\n",
       "      <td>0.000000</td>\n",
       "      <td>0.000000</td>\n",
       "      <td>0.0</td>\n",
       "      <td>0.0</td>\n",
       "      <td>351.15</td>\n",
       "    </tr>\n",
       "    <tr>\n",
       "      <td>3</td>\n",
       "      <td>371146_28035</td>\n",
       "      <td>0.0</td>\n",
       "      <td>0.0</td>\n",
       "      <td>0.000000</td>\n",
       "      <td>0.655172</td>\n",
       "      <td>0.103448</td>\n",
       "      <td>0.000000</td>\n",
       "      <td>0.000000</td>\n",
       "      <td>0.000000</td>\n",
       "      <td>0.241379</td>\n",
       "      <td>...</td>\n",
       "      <td>0.0</td>\n",
       "      <td>0.0</td>\n",
       "      <td>0.0</td>\n",
       "      <td>0.0</td>\n",
       "      <td>0.000000</td>\n",
       "      <td>0.000000</td>\n",
       "      <td>0.000000</td>\n",
       "      <td>0.0</td>\n",
       "      <td>0.0</td>\n",
       "      <td>354.15</td>\n",
       "    </tr>\n",
       "    <tr>\n",
       "      <td>4</td>\n",
       "      <td>354054_26065</td>\n",
       "      <td>0.0</td>\n",
       "      <td>0.0</td>\n",
       "      <td>0.000000</td>\n",
       "      <td>0.600000</td>\n",
       "      <td>0.000000</td>\n",
       "      <td>0.000000</td>\n",
       "      <td>0.000000</td>\n",
       "      <td>0.000000</td>\n",
       "      <td>0.000000</td>\n",
       "      <td>...</td>\n",
       "      <td>0.0</td>\n",
       "      <td>0.0</td>\n",
       "      <td>0.0</td>\n",
       "      <td>0.0</td>\n",
       "      <td>0.000000</td>\n",
       "      <td>0.000000</td>\n",
       "      <td>0.000000</td>\n",
       "      <td>0.0</td>\n",
       "      <td>0.0</td>\n",
       "      <td>354.15</td>\n",
       "    </tr>\n",
       "  </tbody>\n",
       "</table>\n",
       "<p>5 rows × 67 columns</p>\n",
       "</div>"
      ],
      "text/plain": [
       "             ID   Li   Be         B         O        Na        Mg        Al  \\\n",
       "0  478474_40951  0.0  0.0  0.099699  0.628564  0.000000  0.008412  0.052889   \n",
       "1  308661_26527  0.0  0.0  0.000000  0.578947  0.000000  0.000000  0.000000   \n",
       "2  448275_37908  0.0  0.0  0.000000  0.523810  0.000000  0.000000  0.000000   \n",
       "3  371146_28035  0.0  0.0  0.000000  0.655172  0.103448  0.000000  0.000000   \n",
       "4  354054_26065  0.0  0.0  0.000000  0.600000  0.000000  0.000000  0.000000   \n",
       "\n",
       "         Si         P  ...   Hf   Ta    W   Hg        Tl        Pb        Bi  \\\n",
       "0  0.180302  0.000000  ...  0.0  0.0  0.0  0.0  0.000000  0.000000  0.000000   \n",
       "1  0.000000  0.000000  ...  0.0  0.0  0.0  0.0  0.000000  0.105263  0.315789   \n",
       "2  0.000000  0.000000  ...  0.0  0.0  0.0  0.0  0.238094  0.000000  0.000000   \n",
       "3  0.000000  0.241379  ...  0.0  0.0  0.0  0.0  0.000000  0.000000  0.000000   \n",
       "4  0.000000  0.000000  ...  0.0  0.0  0.0  0.0  0.000000  0.000000  0.000000   \n",
       "\n",
       "    Th    U      Tg  \n",
       "0  0.0  0.0  341.65  \n",
       "1  0.0  0.0  348.15  \n",
       "2  0.0  0.0  351.15  \n",
       "3  0.0  0.0  354.15  \n",
       "4  0.0  0.0  354.15  \n",
       "\n",
       "[5 rows x 67 columns]"
      ]
     },
     "execution_count": 3,
     "metadata": {},
     "output_type": "execute_result"
    }
   ],
   "source": [
    "df.head()"
   ]
  },
  {
   "cell_type": "code",
   "execution_count": null,
   "metadata": {},
   "outputs": [],
   "source": []
  },
  {
   "cell_type": "code",
   "execution_count": 4,
   "metadata": {},
   "outputs": [],
   "source": [
    "from sklearn.model_selection import train_test_split, GridSearchCV, cross_val_score, cross_validate\n",
    "from sklearn.preprocessing import StandardScaler\n",
    "\n",
    "from sklearn.neighbors import KNeighborsRegressor\n",
    "from sklearn.metrics import classification_report,confusion_matrix, r2_score, mean_squared_error, make_scorer\n",
    "from math import sqrt"
   ]
  },
  {
   "cell_type": "code",
   "execution_count": 5,
   "metadata": {},
   "outputs": [
    {
     "data": {
      "text/plain": [
       "StandardScaler(copy=True, with_mean=True, with_std=True)"
      ]
     },
     "execution_count": 5,
     "metadata": {},
     "output_type": "execute_result"
    }
   ],
   "source": [
    "scaler=StandardScaler()\n",
    "scaler.fit(df)"
   ]
  },
  {
   "cell_type": "code",
   "execution_count": 6,
   "metadata": {},
   "outputs": [],
   "source": [
    "scaled_features = scaler.transform(df)\n",
    "df_scaled=pd.DataFrame(scaled_features,columns = df.columns)"
   ]
  },
  {
   "cell_type": "code",
   "execution_count": 7,
   "metadata": {},
   "outputs": [],
   "source": [
    "X_col=df_scaled.columns.values"
   ]
  },
  {
   "cell_type": "markdown",
   "metadata": {},
   "source": [
    "Define X and y"
   ]
  },
  {
   "cell_type": "code",
   "execution_count": 8,
   "metadata": {},
   "outputs": [],
   "source": [
    "X=df_scaled[X_col[:-1]]\n",
    "y=df_scaled['Tg']"
   ]
  },
  {
   "cell_type": "markdown",
   "metadata": {},
   "source": [
    "RRMSE: Assesses the predictive performance regression algorithms, bringing the advantage of measuring the\n",
    "target algorithm improvements over a baseline (a predictor that always predicts the mean value of the desired\n",
    "output). The RRMSE can be calculated using rrmse function"
   ]
  },
  {
   "cell_type": "code",
   "execution_count": 9,
   "metadata": {},
   "outputs": [],
   "source": [
    "def rrmse(y_true, y_pred):\n",
    "    from math import sqrt\n",
    "    re= sqrt(1-r2_score(y_true, y_pred))\n",
    "    return re\n",
    "rrmse_scorer = make_scorer(rrmse,greater_is_better=False)"
   ]
  },
  {
   "cell_type": "code",
   "execution_count": 10,
   "metadata": {},
   "outputs": [],
   "source": [
    "from sklearn.model_selection import KFold"
   ]
  },
  {
   "cell_type": "code",
   "execution_count": 11,
   "metadata": {},
   "outputs": [],
   "source": [
    "eu_knn= KNeighborsRegressor(n_neighbors=5, metric='minkowski')"
   ]
  },
  {
   "cell_type": "code",
   "execution_count": null,
   "metadata": {},
   "outputs": [],
   "source": [
    "\n",
    "Nouter=10 # number of folds for model evaluation by averaging\n",
    "Ninner=5 # number of folds for hyperparameter tuning\n",
    "inner_cv=KFold(n_splits=Ninner, shuffle=True)\n",
    "outer_cv = KFold(n_splits=Nouter, shuffle=True)\n",
    "\n",
    "\n",
    "# Define range of values to test n_neighbors for\n",
    "k_grid = list(range(1, 14))\n",
    "# dictionary that defines the list of hyperparameters tested and their value/range\n",
    "grid_params={'n_neighbors':list(range(1, 14)),'weights':['uniform','distance']}\n",
    "\n",
    "# Initialte 4 Metrics variables for finding model's predictive performance for outer splits\n",
    "rrmse_out=[]\n",
    "rsquare_out=[]\n",
    "rmse_out=[]\n",
    "k_used=[]\n",
    "clf = GridSearchCV(estimator=eu_knn, param_grid=grid_params, n_jobs=-1, cv=inner_cv, scoring=rrmse_scorer, refit=True)\n",
    "ggscorer=cross_val_score(clf, X, y, scoring=rrmse_scorer, cv=outer_cv)\n",
    "# outer loop starts here\n",
    "# Saves model performance metrics and hyperparameter values by taking the best configuration for given outer split\n",
    "\n",
    "#this takes long time"
   ]
  },
  {
   "cell_type": "code",
   "execution_count": 26,
   "metadata": {},
   "outputs": [
    {
     "data": {
      "text/plain": [
       "<generator object _BaseKFold.split at 0x0000025233AA5F48>"
      ]
     },
     "execution_count": 26,
     "metadata": {},
     "output_type": "execute_result"
    }
   ],
   "source": [
    "k_best_value = k_used[rrmse_out.index(min(rrmse_out))]\n",
    "#this prints out the average and std dev of each metric from 10 folds\n",
    "print(\"Best value of k= \",k_best_value,\"\\n\",\"RRMSE = \",np.mean(rrmse_out),u\"\\u00B1 \",np.std(rrmse_out),\"\\n\",\"RMSE = \", np.mean(rmse_out),u\"\\u00B1 \",np.std(rmse_out),\"\\n\",\"R\\u00b2 \", np.mean(rsquare_out),u\"\\u00B1 \",np.std(rsquare_out))"
   ]
  },
  {
   "cell_type": "code",
   "execution_count": null,
   "metadata": {},
   "outputs": [],
   "source": [
    "rrmse_out"
   ]
  },
  {
   "cell_type": "code",
   "execution_count": null,
   "metadata": {},
   "outputs": [],
   "source": []
  }
 ],
 "metadata": {
  "kernelspec": {
   "display_name": "Python 3",
   "language": "python",
   "name": "python3"
  },
  "language_info": {
   "codemirror_mode": {
    "name": "ipython",
    "version": 3
   },
   "file_extension": ".py",
   "mimetype": "text/x-python",
   "name": "python",
   "nbconvert_exporter": "python",
   "pygments_lexer": "ipython3",
   "version": "3.7.4"
  },
  "varInspector": {
   "cols": {
    "lenName": 16,
    "lenType": 16,
    "lenVar": 40
   },
   "kernels_config": {
    "python": {
     "delete_cmd_postfix": "",
     "delete_cmd_prefix": "del ",
     "library": "var_list.py",
     "varRefreshCmd": "print(var_dic_list())"
    },
    "r": {
     "delete_cmd_postfix": ") ",
     "delete_cmd_prefix": "rm(",
     "library": "var_list.r",
     "varRefreshCmd": "cat(var_dic_list()) "
    }
   },
   "position": {
    "height": "543px",
    "left": "908px",
    "right": "20px",
    "top": "124px",
    "width": "350px"
   },
   "types_to_exclude": [
    "module",
    "function",
    "builtin_function_or_method",
    "instance",
    "_Feature"
   ],
   "window_display": false
  }
 },
 "nbformat": 4,
 "nbformat_minor": 2
}
